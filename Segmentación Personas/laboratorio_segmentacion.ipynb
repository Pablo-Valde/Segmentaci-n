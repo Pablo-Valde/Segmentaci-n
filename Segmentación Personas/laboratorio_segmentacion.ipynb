{
  "cells": [
    {
      "cell_type": "markdown",
      "metadata": {
        "colab_type": "text",
        "id": "view-in-github"
      },
      "source": [
        "<a href=\"https://colab.research.google.com/github/Pablo-Valde/Segmentacion/blob/main/laboratorio_segmentacion.ipynb\" target=\"_parent\"><img src=\"https://colab.research.google.com/assets/colab-badge.svg\" alt=\"Open In Colab\"/></a>"
      ]
    },
    {
      "cell_type": "markdown",
      "metadata": {
        "id": "W5VAYKLU8W5W"
      },
      "source": [
        "<h1 align='center'>Laboratorio de Segmentación</h1>\n",
        "\n",
        "<h2>1. Importación de Librerías</h2>\n",
        "\n",
        "Para simplificar el ejercicio, primero importaremos las librerías, sin necesidad de levantar un ambiente virtual e instalarlas en éste, gracias a las virtudes de Google Colaboratory como editor. Otra de las ventajas de  este intérprete de Python, es que funciona con el formato de celdas de los *Jupyter Notebooks*. Esto permite trabajar bajo el paradigma de lo que se denomina *Literate Programming*, pudiéndose hacer un claro énfasis en la estructura lógica del programa.\n",
        "\n",
        "Para ejecutar la celda a continuación, bastará que usted la seleccione apretando sobre ella con el cursor, y luego apriete <code>shift+enter</code>\n",
        "\n",
        "\n"
      ]
    },
    {
      "cell_type": "code",
      "execution_count": 1,
      "metadata": {
        "id": "5P9YZjV04Chg"
      },
      "outputs": [
        {
          "name": "stderr",
          "output_type": "stream",
          "text": [
            "/usr/lib/python3/dist-packages/scipy/__init__.py:146: UserWarning: A NumPy version >=1.17.3 and <1.25.0 is required for this version of SciPy (detected version 1.26.4\n",
            "  warnings.warn(f\"A NumPy version >={np_minversion} and <{np_maxversion}\"\n"
          ]
        }
      ],
      "source": [
        "# Visualization Libraries\n",
        "import matplotlib.pyplot as plt\n",
        "import plotly.express as px\n",
        "import seaborn as sns\n",
        "\n",
        "# Operational Libraries\n",
        "import pandas as pd\n",
        "import re\n",
        "from sklearn.preprocessing import LabelEncoder\n"
      ]
    },
    {
      "cell_type": "markdown",
      "metadata": {
        "id": "qY2KEX-8DalQ"
      },
      "source": [
        "<h2>2. Lectura de la Tabla de Datos</h2>\n",
        "\n",
        "Para ejercitar, utilizaremos una tabla de datos (en adelante <i>dataset</i>) recolectados a partir de la encuesta de segmentación realizada a la salida de los locales Bimarc Food Market. Los datos no han sido procesados, por lo que hay ciertos campos que se transformarán y otros tantos que enriqueceremos en el proceso de segmentación.\n",
        "\n",
        "Es importante notar que hay una columna numérica de identificación de los sujetos, denominada \"Identificador\". No se confunda, esta variable es arbitraria para todos los efectos prácticos, y no debe ser considerada para el análisis, salvo que sea considerada como llave relacional. Si usted no se encuentra familiarizado con el lenguaje y las librerías, Pandas incluye siempre un índice que comúnmente es también numérico. No confunda el índice con la columna de identificación."
      ]
    },
    {
      "cell_type": "code",
      "execution_count": 2,
      "metadata": {
        "colab": {
          "base_uri": "https://localhost:8080/",
          "height": 206
        },
        "id": "yU6wOdw76dB4",
        "outputId": "9c822bdb-11a3-46d0-c062-f39eb2b43e6c"
      },
      "outputs": [
        {
          "data": {
            "text/html": [
              "<div>\n",
              "<style scoped>\n",
              "    .dataframe tbody tr th:only-of-type {\n",
              "        vertical-align: middle;\n",
              "    }\n",
              "\n",
              "    .dataframe tbody tr th {\n",
              "        vertical-align: top;\n",
              "    }\n",
              "\n",
              "    .dataframe thead th {\n",
              "        text-align: right;\n",
              "    }\n",
              "</style>\n",
              "<table border=\"1\" class=\"dataframe\">\n",
              "  <thead>\n",
              "    <tr style=\"text-align: right;\">\n",
              "      <th></th>\n",
              "      <th>macrozona</th>\n",
              "      <th>folio_v</th>\n",
              "      <th>folio</th>\n",
              "      <th>fe</th>\n",
              "      <th>estrato_muestreo</th>\n",
              "      <th>var_unit</th>\n",
              "      <th>cse</th>\n",
              "      <th>persona</th>\n",
              "      <th>n_linea</th>\n",
              "      <th>npersonas</th>\n",
              "      <th>...</th>\n",
              "      <th>ite03</th>\n",
              "      <th>ite04</th>\n",
              "      <th>ite05</th>\n",
              "      <th>ite06</th>\n",
              "      <th>ite07</th>\n",
              "      <th>ite08</th>\n",
              "      <th>ite09</th>\n",
              "      <th>ite10</th>\n",
              "      <th>ocupadas</th>\n",
              "      <th>no_ocupadas</th>\n",
              "    </tr>\n",
              "  </thead>\n",
              "  <tbody>\n",
              "    <tr>\n",
              "      <th>44683</th>\n",
              "      <td>4</td>\n",
              "      <td>14960</td>\n",
              "      <td>14960-1</td>\n",
              "      <td>160,8926146970770</td>\n",
              "      <td>38</td>\n",
              "      <td>978</td>\n",
              "      <td>2</td>\n",
              "      <td>3</td>\n",
              "      <td>3</td>\n",
              "      <td>3</td>\n",
              "      <td>...</td>\n",
              "      <td>2</td>\n",
              "      <td>-77</td>\n",
              "      <td>-77,000000000</td>\n",
              "      <td>-77,0000000000</td>\n",
              "      <td>2</td>\n",
              "      <td>-77,000</td>\n",
              "      <td>2</td>\n",
              "      <td>-77,000</td>\n",
              "      <td>2</td>\n",
              "      <td>1</td>\n",
              "    </tr>\n",
              "    <tr>\n",
              "      <th>44684</th>\n",
              "      <td>4</td>\n",
              "      <td>14961</td>\n",
              "      <td>14961-1</td>\n",
              "      <td>103,1978379921670</td>\n",
              "      <td>11</td>\n",
              "      <td>875</td>\n",
              "      <td>1</td>\n",
              "      <td>1</td>\n",
              "      <td>1</td>\n",
              "      <td>4</td>\n",
              "      <td>...</td>\n",
              "      <td>2</td>\n",
              "      <td>-77</td>\n",
              "      <td>-77,000000000</td>\n",
              "      <td>-77,0000000000</td>\n",
              "      <td>2</td>\n",
              "      <td>-77,000</td>\n",
              "      <td>2</td>\n",
              "      <td>-77,000</td>\n",
              "      <td>1</td>\n",
              "      <td>2</td>\n",
              "    </tr>\n",
              "    <tr>\n",
              "      <th>44685</th>\n",
              "      <td>4</td>\n",
              "      <td>14961</td>\n",
              "      <td>14961-1</td>\n",
              "      <td>103,1978379921670</td>\n",
              "      <td>11</td>\n",
              "      <td>875</td>\n",
              "      <td>1</td>\n",
              "      <td>2</td>\n",
              "      <td>2</td>\n",
              "      <td>4</td>\n",
              "      <td>...</td>\n",
              "      <td>2</td>\n",
              "      <td>-77</td>\n",
              "      <td>-77,000000000</td>\n",
              "      <td>-77,0000000000</td>\n",
              "      <td>2</td>\n",
              "      <td>-77,000</td>\n",
              "      <td>2</td>\n",
              "      <td>-77,000</td>\n",
              "      <td>2</td>\n",
              "      <td>1</td>\n",
              "    </tr>\n",
              "    <tr>\n",
              "      <th>44686</th>\n",
              "      <td>4</td>\n",
              "      <td>14961</td>\n",
              "      <td>14961-1</td>\n",
              "      <td>103,1978379921670</td>\n",
              "      <td>11</td>\n",
              "      <td>875</td>\n",
              "      <td>1</td>\n",
              "      <td>3</td>\n",
              "      <td>3</td>\n",
              "      <td>4</td>\n",
              "      <td>...</td>\n",
              "      <td>2</td>\n",
              "      <td>-77</td>\n",
              "      <td>-77,000000000</td>\n",
              "      <td>-77,0000000000</td>\n",
              "      <td>2</td>\n",
              "      <td>-77,000</td>\n",
              "      <td>2</td>\n",
              "      <td>-77,000</td>\n",
              "      <td>1</td>\n",
              "      <td>2</td>\n",
              "    </tr>\n",
              "    <tr>\n",
              "      <th>44687</th>\n",
              "      <td>4</td>\n",
              "      <td>14961</td>\n",
              "      <td>14961-1</td>\n",
              "      <td>103,1978379921670</td>\n",
              "      <td>11</td>\n",
              "      <td>875</td>\n",
              "      <td>1</td>\n",
              "      <td>4</td>\n",
              "      <td>4</td>\n",
              "      <td>4</td>\n",
              "      <td>...</td>\n",
              "      <td>-77</td>\n",
              "      <td>-77</td>\n",
              "      <td>-77,000000000</td>\n",
              "      <td>-77,0000000000</td>\n",
              "      <td>-77</td>\n",
              "      <td>-77,000</td>\n",
              "      <td>-77</td>\n",
              "      <td>-77,000</td>\n",
              "      <td>-77</td>\n",
              "      <td>-77</td>\n",
              "    </tr>\n",
              "  </tbody>\n",
              "</table>\n",
              "<p>5 rows × 314 columns</p>\n",
              "</div>"
            ],
            "text/plain": [
              "       macrozona  folio_v    folio                 fe  estrato_muestreo  \\\n",
              "44683          4    14960  14960-1  160,8926146970770                38   \n",
              "44684          4    14961  14961-1  103,1978379921670                11   \n",
              "44685          4    14961  14961-1  103,1978379921670                11   \n",
              "44686          4    14961  14961-1  103,1978379921670                11   \n",
              "44687          4    14961  14961-1  103,1978379921670                11   \n",
              "\n",
              "       var_unit  cse  persona  n_linea  npersonas  ...  ite03  ite04  \\\n",
              "44683       978    2        3        3          3  ...      2    -77   \n",
              "44684       875    1        1        1          4  ...      2    -77   \n",
              "44685       875    1        2        2          4  ...      2    -77   \n",
              "44686       875    1        3        3          4  ...      2    -77   \n",
              "44687       875    1        4        4          4  ...    -77    -77   \n",
              "\n",
              "               ite05           ite06  ite07    ite08  ite09    ite10  \\\n",
              "44683  -77,000000000  -77,0000000000      2  -77,000      2  -77,000   \n",
              "44684  -77,000000000  -77,0000000000      2  -77,000      2  -77,000   \n",
              "44685  -77,000000000  -77,0000000000      2  -77,000      2  -77,000   \n",
              "44686  -77,000000000  -77,0000000000      2  -77,000      2  -77,000   \n",
              "44687  -77,000000000  -77,0000000000    -77  -77,000    -77  -77,000   \n",
              "\n",
              "       ocupadas  no_ocupadas  \n",
              "44683         2            1  \n",
              "44684         1            2  \n",
              "44685         2            1  \n",
              "44686         1            2  \n",
              "44687       -77          -77  \n",
              "\n",
              "[5 rows x 314 columns]"
            ]
          },
          "execution_count": 2,
          "metadata": {},
          "output_type": "execute_result"
        }
      ],
      "source": [
        "# Importing the prospects dataset using pandas from a local CSV file\n",
        "file_name = 'base-personas-ix-epf-(formato-csv).csv'  # Replace with the actual file name\n",
        "dataset = pd.read_csv(file_name, delimiter=';', on_bad_lines='skip')\n",
        "\n",
        "file_path_excel = 'diccionario-de-variables-ix-epf(1).xlsx'\n",
        "xls = pd.ExcelFile(file_path_excel)\n",
        "\n",
        "# Display of last 5 rows\n",
        "dataset.tail(5)"
      ]
    },
    {
      "cell_type": "code",
      "execution_count": 41,
      "metadata": {},
      "outputs": [
        {
          "name": "stdout",
          "output_type": "stream",
          "text": [
            "<class 'pandas.core.frame.DataFrame'>\n",
            "RangeIndex: 958198 entries, 0 to 958197\n",
            "Data columns (total 22 columns):\n",
            " #   Column                 Non-Null Count   Dtype  \n",
            "---  ------                 --------------   -----  \n",
            " 0   macrozona              958198 non-null  int64  \n",
            " 1   folio_v                958198 non-null  int64  \n",
            " 2   folio                  958198 non-null  object \n",
            " 3   n_linea                958119 non-null  float64\n",
            " 4   fe                     958198 non-null  object \n",
            " 5   estrato_muestreo       958198 non-null  int64  \n",
            " 6   var_unit               958198 non-null  int64  \n",
            " 7   id_gasto               958198 non-null  object \n",
            " 8   cantidad               953792 non-null  object \n",
            " 9   unidad_medida          958198 non-null  object \n",
            " 10  glosa_ccif             958117 non-null  object \n",
            " 11  ccif                   958198 non-null  object \n",
            " 12  d                      958117 non-null  float64\n",
            " 13  g                      958117 non-null  float64\n",
            " 14  c                      958117 non-null  float64\n",
            " 15  sc                     958117 non-null  float64\n",
            " 16  p                      958117 non-null  float64\n",
            " 17  gasto                  958198 non-null  object \n",
            " 18  glosa_establecimiento  958198 non-null  object \n",
            " 19  cod_establecimiento    958198 non-null  int64  \n",
            " 20  cantidad_inicial       958198 non-null  object \n",
            " 21  unidad_medida_inicial  958198 non-null  object \n",
            "dtypes: float64(6), int64(5), object(11)\n",
            "memory usage: 160.8+ MB\n",
            "None\n"
          ]
        }
      ],
      "source": [
        "# Mostrar información general del dataset\n",
        "print(dataset.info())"
      ]
    },
    {
      "cell_type": "markdown",
      "metadata": {
        "id": "wwT7B0OU0qwp"
      },
      "source": [
        "<h2>3. Transformación de los Datos</h2>\n",
        "\n",
        "A continuación procederemos a transformar los datos, creando un dataset numérico a partir del que descargamos. Si bien es más costoso en memoria el uso de réplicas completas de los datasets utilizados, esta práctica es conveniente cuando se trabaja con Jupyter Notebooks que podrían ser ejecutados en desorden o múltiples veces."
      ]
    },
    {
      "cell_type": "code",
      "execution_count": 42,
      "metadata": {
        "id": "Bf1gqvEc0pss"
      },
      "outputs": [],
      "source": [
        "# Copying our dataset to avoid future issues\n",
        "dataset_numerico = dataset.copy(deep=True)"
      ]
    },
    {
      "cell_type": "markdown",
      "metadata": {},
      "source": [
        "Tambien nos interesa filtrar de antemano la base para ciertos aspectos que son de nuestro interes, por ejemplo filtrar para el sector de gran santiago"
      ]
    },
    {
      "cell_type": "code",
      "execution_count": 47,
      "metadata": {},
      "outputs": [
        {
          "name": "stderr",
          "output_type": "stream",
          "text": [
            "/tmp/ipykernel_4814/3863168281.py:3: FutureWarning: DataFrame.applymap has been deprecated. Use DataFrame.map instead.\n",
            "  filtered_dataset = filtro_geografico[~filtro_geografico.applymap(lambda x: x == -77).any(axis=1)]\n",
            "/tmp/ipykernel_4814/3863168281.py:4: FutureWarning: DataFrame.applymap has been deprecated. Use DataFrame.map instead.\n",
            "  filtered_dataset = filtro_geografico[~filtro_geografico.applymap(lambda x: x == -77.0).any(axis=1)]\n"
          ]
        },
        {
          "data": {
            "text/html": [
              "<div>\n",
              "<style scoped>\n",
              "    .dataframe tbody tr th:only-of-type {\n",
              "        vertical-align: middle;\n",
              "    }\n",
              "\n",
              "    .dataframe tbody tr th {\n",
              "        vertical-align: top;\n",
              "    }\n",
              "\n",
              "    .dataframe thead th {\n",
              "        text-align: right;\n",
              "    }\n",
              "</style>\n",
              "<table border=\"1\" class=\"dataframe\">\n",
              "  <thead>\n",
              "    <tr style=\"text-align: right;\">\n",
              "      <th></th>\n",
              "      <th>macrozona</th>\n",
              "      <th>folio_v</th>\n",
              "      <th>folio</th>\n",
              "      <th>n_linea</th>\n",
              "      <th>fe</th>\n",
              "      <th>estrato_muestreo</th>\n",
              "      <th>var_unit</th>\n",
              "      <th>id_gasto</th>\n",
              "      <th>cantidad</th>\n",
              "      <th>unidad_medida</th>\n",
              "      <th>...</th>\n",
              "      <th>d</th>\n",
              "      <th>g</th>\n",
              "      <th>c</th>\n",
              "      <th>sc</th>\n",
              "      <th>p</th>\n",
              "      <th>gasto</th>\n",
              "      <th>glosa_establecimiento</th>\n",
              "      <th>cod_establecimiento</th>\n",
              "      <th>cantidad_inicial</th>\n",
              "      <th>unidad_medida_inicial</th>\n",
              "    </tr>\n",
              "  </thead>\n",
              "  <tbody>\n",
              "    <tr>\n",
              "      <th>958193</th>\n",
              "      <td>4</td>\n",
              "      <td>9998</td>\n",
              "      <td>9998-1</td>\n",
              "      <td>1.0</td>\n",
              "      <td>158,4609379966400</td>\n",
              "      <td>38</td>\n",
              "      <td>2972</td>\n",
              "      <td>9998-1-15</td>\n",
              "      <td>1,10714285714286e+03</td>\n",
              "      <td>ML</td>\n",
              "      <td>...</td>\n",
              "      <td>1.0</td>\n",
              "      <td>2.0</td>\n",
              "      <td>5.0</td>\n",
              "      <td>1.0</td>\n",
              "      <td>1.0</td>\n",
              "      <td>1,43928571428571e+03</td>\n",
              "      <td>SUPERMERCADOS</td>\n",
              "      <td>1</td>\n",
              "      <td>500,000</td>\n",
              "      <td>CC</td>\n",
              "    </tr>\n",
              "    <tr>\n",
              "      <th>958194</th>\n",
              "      <td>4</td>\n",
              "      <td>9998</td>\n",
              "      <td>9998-1</td>\n",
              "      <td>1.0</td>\n",
              "      <td>158,4609379966400</td>\n",
              "      <td>38</td>\n",
              "      <td>2972</td>\n",
              "      <td>9998-1-7</td>\n",
              "      <td>1,10714285714286e+03</td>\n",
              "      <td>ML</td>\n",
              "      <td>...</td>\n",
              "      <td>1.0</td>\n",
              "      <td>2.0</td>\n",
              "      <td>9.0</td>\n",
              "      <td>1.0</td>\n",
              "      <td>2.0</td>\n",
              "      <td>3,29928571428571e+03</td>\n",
              "      <td>SUPERMERCADOS</td>\n",
              "      <td>1</td>\n",
              "      <td>500,000</td>\n",
              "      <td>CC</td>\n",
              "    </tr>\n",
              "    <tr>\n",
              "      <th>958195</th>\n",
              "      <td>4</td>\n",
              "      <td>9998</td>\n",
              "      <td>9998-1</td>\n",
              "      <td>1.0</td>\n",
              "      <td>158,4609379966400</td>\n",
              "      <td>38</td>\n",
              "      <td>2972</td>\n",
              "      <td>9998-1-8</td>\n",
              "      <td>1,10714285714286e+03</td>\n",
              "      <td>ML</td>\n",
              "      <td>...</td>\n",
              "      <td>1.0</td>\n",
              "      <td>2.0</td>\n",
              "      <td>9.0</td>\n",
              "      <td>1.0</td>\n",
              "      <td>2.0</td>\n",
              "      <td>3,29928571428571e+03</td>\n",
              "      <td>SUPERMERCADOS</td>\n",
              "      <td>1</td>\n",
              "      <td>500,000</td>\n",
              "      <td>CC</td>\n",
              "    </tr>\n",
              "    <tr>\n",
              "      <th>958196</th>\n",
              "      <td>4</td>\n",
              "      <td>9999</td>\n",
              "      <td>9999-1</td>\n",
              "      <td>-77.0</td>\n",
              "      <td>130,6225757230620</td>\n",
              "      <td>11</td>\n",
              "      <td>2869</td>\n",
              "      <td>9999-1-1</td>\n",
              "      <td>1,00000000000000e+00</td>\n",
              "      <td>COMPRA</td>\n",
              "      <td>...</td>\n",
              "      <td>2.0</td>\n",
              "      <td>5.0</td>\n",
              "      <td>1.0</td>\n",
              "      <td>1.0</td>\n",
              "      <td>1.0</td>\n",
              "      <td>2,48000000000000e+02</td>\n",
              "      <td>FERIA ARTESANAL - FERIA DE LAS PULGAS</td>\n",
              "      <td>20</td>\n",
              "      <td>-77,000</td>\n",
              "      <td>-77</td>\n",
              "    </tr>\n",
              "    <tr>\n",
              "      <th>958197</th>\n",
              "      <td>4</td>\n",
              "      <td>9999</td>\n",
              "      <td>9999-1</td>\n",
              "      <td>-77.0</td>\n",
              "      <td>130,6225757230620</td>\n",
              "      <td>11</td>\n",
              "      <td>2869</td>\n",
              "      <td>9999-1-2</td>\n",
              "      <td>1,00000000000000e+00</td>\n",
              "      <td>-77</td>\n",
              "      <td>...</td>\n",
              "      <td>11.0</td>\n",
              "      <td>1.0</td>\n",
              "      <td>1.0</td>\n",
              "      <td>1.0</td>\n",
              "      <td>13.0</td>\n",
              "      <td>6,32653061224490e+03</td>\n",
              "      <td>RESTAURANTES Y BARES</td>\n",
              "      <td>4</td>\n",
              "      <td>-77,000</td>\n",
              "      <td>-77</td>\n",
              "    </tr>\n",
              "  </tbody>\n",
              "</table>\n",
              "<p>5 rows × 22 columns</p>\n",
              "</div>"
            ],
            "text/plain": [
              "        macrozona  folio_v   folio  n_linea                 fe  \\\n",
              "958193          4     9998  9998-1      1.0  158,4609379966400   \n",
              "958194          4     9998  9998-1      1.0  158,4609379966400   \n",
              "958195          4     9998  9998-1      1.0  158,4609379966400   \n",
              "958196          4     9999  9999-1    -77.0  130,6225757230620   \n",
              "958197          4     9999  9999-1    -77.0  130,6225757230620   \n",
              "\n",
              "        estrato_muestreo  var_unit   id_gasto              cantidad  \\\n",
              "958193                38      2972  9998-1-15  1,10714285714286e+03   \n",
              "958194                38      2972   9998-1-7  1,10714285714286e+03   \n",
              "958195                38      2972   9998-1-8  1,10714285714286e+03   \n",
              "958196                11      2869   9999-1-1  1,00000000000000e+00   \n",
              "958197                11      2869   9999-1-2  1,00000000000000e+00   \n",
              "\n",
              "       unidad_medida  ...     d    g    c   sc     p                 gasto  \\\n",
              "958193            ML  ...   1.0  2.0  5.0  1.0   1.0  1,43928571428571e+03   \n",
              "958194            ML  ...   1.0  2.0  9.0  1.0   2.0  3,29928571428571e+03   \n",
              "958195            ML  ...   1.0  2.0  9.0  1.0   2.0  3,29928571428571e+03   \n",
              "958196        COMPRA  ...   2.0  5.0  1.0  1.0   1.0  2,48000000000000e+02   \n",
              "958197           -77  ...  11.0  1.0  1.0  1.0  13.0  6,32653061224490e+03   \n",
              "\n",
              "                        glosa_establecimiento cod_establecimiento  \\\n",
              "958193                          SUPERMERCADOS                   1   \n",
              "958194                          SUPERMERCADOS                   1   \n",
              "958195                          SUPERMERCADOS                   1   \n",
              "958196  FERIA ARTESANAL - FERIA DE LAS PULGAS                  20   \n",
              "958197                   RESTAURANTES Y BARES                   4   \n",
              "\n",
              "       cantidad_inicial  unidad_medida_inicial  \n",
              "958193          500,000                     CC  \n",
              "958194          500,000                     CC  \n",
              "958195          500,000                     CC  \n",
              "958196          -77,000                    -77  \n",
              "958197          -77,000                    -77  \n",
              "\n",
              "[5 rows x 22 columns]"
            ]
          },
          "execution_count": 47,
          "metadata": {},
          "output_type": "execute_result"
        }
      ],
      "source": [
        "filtro_geografico = dataset_numerico[dataset_numerico['macrozona'] == 'Gran Santiago']\n",
        "filtro_geografico = dataset_numerico[dataset_numerico['glosa_establecimiento'] == 'SUPERMERCADOS']\n",
        "filtered_dataset = filtro_geografico[~filtro_geografico.applymap(lambda x: x == -77).any(axis=1)]\n",
        "filtered_dataset = filtro_geografico[~filtro_geografico.applymap(lambda x: x == -77.0).any(axis=1)]\n",
        "dataset.tail(5)"
      ]
    },
    {
      "cell_type": "markdown",
      "metadata": {
        "id": "UTj9sKJF2yK_"
      },
      "source": [
        "Recordemos que los datos recolectados en una encuesta pueden ser de cuatro tipos principalmente:\n",
        "\n",
        "- Nominal: nombres (identificación y clasificación)\n",
        "- Ordinal: orden (jerarquización, posición relativa)\n",
        "- Intervalo: cuantificación (cero arbitrario)\n",
        "- Escala: cuantificación (cero absoluto)\n",
        "\n",
        "Es importante que usted identifique el tipo de cada variable, para que así le sea más sencillo transformar los datos en información valiosa para su posterior análisis. Para efectos de este ejemplo, dividiremos la transformación de los datos por tipo para mayor claridad, transformando aquellas variables de tipo texto en numéricas según corresponda.\n",
        "\n",
        "<h3>3.1. Valores Nominales</h3>\n",
        "\n",
        "Las variables nominales son las siguientes en este caso: CCIF IX EPF(ccif), Glosa teórica CCIF IX EPF (glosa_ccif)(Corresponde al producto), Glosa teórica de los establecimientos(glosa_establecimiento), Cantidad o número de bienes o servicios adquiridos reportada(cantidad_inicial) y Unidad de medida de los bienes o servicios adquiridos reportada(unidad_medida_inicial). A continuación, haremos las transformaciones necesarias para este tipo de variables."
      ]
    },
    {
      "cell_type": "code",
      "execution_count": 48,
      "metadata": {},
      "outputs": [],
      "source": [
        "label_encoder = LabelEncoder()"
      ]
    },
    {
      "cell_type": "code",
      "execution_count": 45,
      "metadata": {
        "id": "xIm7KTDl284x"
      },
      "outputs": [],
      "source": [
        "# Identificador doesn't require further transformations\n",
        "\n",
        "# Ejemplo: Codificar la columna 'glosa_establecimiento'\n",
        "# Mapeo de la variable 'ccif'\n",
        "filtered_dataset['ccif_encoded'] = label_encoder.fit_transform(filtered_dataset['ccif'])\n",
        "\n",
        "# Mapeo de la variable 'glosa_ccif'\n",
        "filtered_dataset['glosa_ccif_encoded'] = label_encoder.fit_transform(filtered_dataset['glosa_ccif'])\n",
        "\n",
        "# Mapeo de la variable 'glosa_establecimiento'\n",
        "filtered_dataset['glosa_establecimiento_encoded'] = label_encoder.fit_transform(filtered_dataset['glosa_establecimiento'])\n",
        "\n",
        "# Mapeo de la variable 'unidad_medida_inicial'\n",
        "filtered_dataset['unidad_medida_inicial_encoded'] = label_encoder.fit_transform(filtered_dataset['unidad_medida_inicial'])\n",
        "\n",
        "\n",
        "# As well as Nacionalidad, Comuna doesn't have any order yet, so we'll do the same\n",
        "#mapper_city = {city: i for i, city in enumerate(dataset_numerico['Comuna'].unique())}\n",
        "#dataset_numerico['Comuna'] = dataset_numerico['Comuna'].replace(mapper_city)\n",
        "\n",
        "# Local follows the same pattern as the last two variables\n",
        "#mapper_local = {local: i for i, local in enumerate(dataset_numerico['Local'].unique())}\n",
        "#dataset_numerico['Local'] = dataset_numerico['Local'].replace(mapper_local)"
      ]
    },
    {
      "cell_type": "markdown",
      "metadata": {
        "id": "O1pXSgrdMIgy"
      },
      "source": [
        "<h3>3.2. Variables Ordinales</h3>\n",
        "\n",
        "Las variables ordinales en este caso son: División CCIF(d), Grupo CCIF(g), Clase CCIF(c), Subclase CCIF(sc), Producto CCIF(p) y Código interno de establecimiento para la clasificación de puntos de compra(cod_establecimiento)."
      ]
    },
    {
      "cell_type": "code",
      "execution_count": 49,
      "metadata": {
        "colab": {
          "base_uri": "https://localhost:8080/",
          "height": 423
        },
        "id": "gRIeuHzJ3Dc9",
        "outputId": "3d8eaa41-5c67-42c8-8dfe-51a6d7985a8e"
      },
      "outputs": [],
      "source": [
        "# The column Nivel Educacional is ordered by the analyst from lower to higher\n",
        "mapper_productos = {'S': 0, 'ND': 1,\n",
        "                    'SD': 2, 'D': 3}\n",
        "\n",
        "dataset_numerico['c'] = dataset_numerico['c'].replace(mapper_productos)\n",
        "\n",
        "# Mapeo de la variable 'd' (División CCIF)\n",
        "filtered_dataset['d_encoded'] = label_encoder.fit_transform(filtered_dataset['d'])\n",
        "\n",
        "# Mapeo de la variable 'g' (Grupo CCIF)\n",
        "filtered_dataset['g_encoded'] = label_encoder.fit_transform(filtered_dataset['g'])\n",
        "\n",
        "# La variable 'c' ya fue mapeada anteriormente\n",
        "\n",
        "# Mapeo de la variable 'sc' (Subclase CCIF)\n",
        "filtered_dataset['sc_encoded'] = label_encoder.fit_transform(filtered_dataset['sc'])\n",
        "\n",
        "# Mapeo de la variable 'p' (Producto CCIF)\n",
        "filtered_dataset['p_encoded'] = label_encoder.fit_transform(filtered_dataset['p'])\n",
        "\n",
        "# Mapeo de la variable 'cod_establecimiento' (Código interno de establecimiento)\n",
        "filtered_dataset['cod_establecimiento_encoded'] = label_encoder.fit_transform(filtered_dataset['cod_establecimiento'])\n"
      ]
    },
    {
      "cell_type": "code",
      "execution_count": 50,
      "metadata": {},
      "outputs": [
        {
          "data": {
            "text/html": [
              "<div>\n",
              "<style scoped>\n",
              "    .dataframe tbody tr th:only-of-type {\n",
              "        vertical-align: middle;\n",
              "    }\n",
              "\n",
              "    .dataframe tbody tr th {\n",
              "        vertical-align: top;\n",
              "    }\n",
              "\n",
              "    .dataframe thead th {\n",
              "        text-align: right;\n",
              "    }\n",
              "</style>\n",
              "<table border=\"1\" class=\"dataframe\">\n",
              "  <thead>\n",
              "    <tr style=\"text-align: right;\">\n",
              "      <th></th>\n",
              "      <th>macrozona</th>\n",
              "      <th>folio_v</th>\n",
              "      <th>folio</th>\n",
              "      <th>n_linea</th>\n",
              "      <th>fe</th>\n",
              "      <th>estrato_muestreo</th>\n",
              "      <th>var_unit</th>\n",
              "      <th>id_gasto</th>\n",
              "      <th>cantidad</th>\n",
              "      <th>unidad_medida</th>\n",
              "      <th>...</th>\n",
              "      <th>d</th>\n",
              "      <th>g</th>\n",
              "      <th>c</th>\n",
              "      <th>sc</th>\n",
              "      <th>p</th>\n",
              "      <th>gasto</th>\n",
              "      <th>glosa_establecimiento</th>\n",
              "      <th>cod_establecimiento</th>\n",
              "      <th>cantidad_inicial</th>\n",
              "      <th>unidad_medida_inicial</th>\n",
              "    </tr>\n",
              "  </thead>\n",
              "  <tbody>\n",
              "    <tr>\n",
              "      <th>958191</th>\n",
              "      <td>4</td>\n",
              "      <td>9998</td>\n",
              "      <td>9998-1</td>\n",
              "      <td>1.0</td>\n",
              "      <td>158,4609379966400</td>\n",
              "      <td>38</td>\n",
              "      <td>2972</td>\n",
              "      <td>9998-1-34</td>\n",
              "      <td>3,76428571428571e+02</td>\n",
              "      <td>GR</td>\n",
              "      <td>...</td>\n",
              "      <td>1.0</td>\n",
              "      <td>2.0</td>\n",
              "      <td>2.0</td>\n",
              "      <td>1.0</td>\n",
              "      <td>1.0</td>\n",
              "      <td>6,70928571428571e+03</td>\n",
              "      <td>SUPERMERCADOS</td>\n",
              "      <td>1</td>\n",
              "      <td>170,000</td>\n",
              "      <td>GR</td>\n",
              "    </tr>\n",
              "    <tr>\n",
              "      <th>958192</th>\n",
              "      <td>4</td>\n",
              "      <td>9998</td>\n",
              "      <td>9998-1</td>\n",
              "      <td>1.0</td>\n",
              "      <td>158,4609379966400</td>\n",
              "      <td>38</td>\n",
              "      <td>2972</td>\n",
              "      <td>9998-1-35</td>\n",
              "      <td>7,93883036253761e+02</td>\n",
              "      <td>GR</td>\n",
              "      <td>...</td>\n",
              "      <td>1.0</td>\n",
              "      <td>2.0</td>\n",
              "      <td>3.0</td>\n",
              "      <td>1.0</td>\n",
              "      <td>2.0</td>\n",
              "      <td>3,85285714285714e+03</td>\n",
              "      <td>SUPERMERCADOS</td>\n",
              "      <td>1</td>\n",
              "      <td>1,000</td>\n",
              "      <td>KG</td>\n",
              "    </tr>\n",
              "    <tr>\n",
              "      <th>958193</th>\n",
              "      <td>4</td>\n",
              "      <td>9998</td>\n",
              "      <td>9998-1</td>\n",
              "      <td>1.0</td>\n",
              "      <td>158,4609379966400</td>\n",
              "      <td>38</td>\n",
              "      <td>2972</td>\n",
              "      <td>9998-1-15</td>\n",
              "      <td>1,10714285714286e+03</td>\n",
              "      <td>ML</td>\n",
              "      <td>...</td>\n",
              "      <td>1.0</td>\n",
              "      <td>2.0</td>\n",
              "      <td>5.0</td>\n",
              "      <td>1.0</td>\n",
              "      <td>1.0</td>\n",
              "      <td>1,43928571428571e+03</td>\n",
              "      <td>SUPERMERCADOS</td>\n",
              "      <td>1</td>\n",
              "      <td>500,000</td>\n",
              "      <td>CC</td>\n",
              "    </tr>\n",
              "    <tr>\n",
              "      <th>958194</th>\n",
              "      <td>4</td>\n",
              "      <td>9998</td>\n",
              "      <td>9998-1</td>\n",
              "      <td>1.0</td>\n",
              "      <td>158,4609379966400</td>\n",
              "      <td>38</td>\n",
              "      <td>2972</td>\n",
              "      <td>9998-1-7</td>\n",
              "      <td>1,10714285714286e+03</td>\n",
              "      <td>ML</td>\n",
              "      <td>...</td>\n",
              "      <td>1.0</td>\n",
              "      <td>2.0</td>\n",
              "      <td>9.0</td>\n",
              "      <td>1.0</td>\n",
              "      <td>2.0</td>\n",
              "      <td>3,29928571428571e+03</td>\n",
              "      <td>SUPERMERCADOS</td>\n",
              "      <td>1</td>\n",
              "      <td>500,000</td>\n",
              "      <td>CC</td>\n",
              "    </tr>\n",
              "    <tr>\n",
              "      <th>958195</th>\n",
              "      <td>4</td>\n",
              "      <td>9998</td>\n",
              "      <td>9998-1</td>\n",
              "      <td>1.0</td>\n",
              "      <td>158,4609379966400</td>\n",
              "      <td>38</td>\n",
              "      <td>2972</td>\n",
              "      <td>9998-1-8</td>\n",
              "      <td>1,10714285714286e+03</td>\n",
              "      <td>ML</td>\n",
              "      <td>...</td>\n",
              "      <td>1.0</td>\n",
              "      <td>2.0</td>\n",
              "      <td>9.0</td>\n",
              "      <td>1.0</td>\n",
              "      <td>2.0</td>\n",
              "      <td>3,29928571428571e+03</td>\n",
              "      <td>SUPERMERCADOS</td>\n",
              "      <td>1</td>\n",
              "      <td>500,000</td>\n",
              "      <td>CC</td>\n",
              "    </tr>\n",
              "  </tbody>\n",
              "</table>\n",
              "<p>5 rows × 22 columns</p>\n",
              "</div>"
            ],
            "text/plain": [
              "        macrozona  folio_v   folio  n_linea                 fe  \\\n",
              "958191          4     9998  9998-1      1.0  158,4609379966400   \n",
              "958192          4     9998  9998-1      1.0  158,4609379966400   \n",
              "958193          4     9998  9998-1      1.0  158,4609379966400   \n",
              "958194          4     9998  9998-1      1.0  158,4609379966400   \n",
              "958195          4     9998  9998-1      1.0  158,4609379966400   \n",
              "\n",
              "        estrato_muestreo  var_unit   id_gasto              cantidad  \\\n",
              "958191                38      2972  9998-1-34  3,76428571428571e+02   \n",
              "958192                38      2972  9998-1-35  7,93883036253761e+02   \n",
              "958193                38      2972  9998-1-15  1,10714285714286e+03   \n",
              "958194                38      2972   9998-1-7  1,10714285714286e+03   \n",
              "958195                38      2972   9998-1-8  1,10714285714286e+03   \n",
              "\n",
              "       unidad_medida  ...    d    g    c   sc    p                 gasto  \\\n",
              "958191            GR  ...  1.0  2.0  2.0  1.0  1.0  6,70928571428571e+03   \n",
              "958192            GR  ...  1.0  2.0  3.0  1.0  2.0  3,85285714285714e+03   \n",
              "958193            ML  ...  1.0  2.0  5.0  1.0  1.0  1,43928571428571e+03   \n",
              "958194            ML  ...  1.0  2.0  9.0  1.0  2.0  3,29928571428571e+03   \n",
              "958195            ML  ...  1.0  2.0  9.0  1.0  2.0  3,29928571428571e+03   \n",
              "\n",
              "        glosa_establecimiento cod_establecimiento cantidad_inicial  \\\n",
              "958191          SUPERMERCADOS                   1          170,000   \n",
              "958192          SUPERMERCADOS                   1            1,000   \n",
              "958193          SUPERMERCADOS                   1          500,000   \n",
              "958194          SUPERMERCADOS                   1          500,000   \n",
              "958195          SUPERMERCADOS                   1          500,000   \n",
              "\n",
              "        unidad_medida_inicial  \n",
              "958191                     GR  \n",
              "958192                     KG  \n",
              "958193                     CC  \n",
              "958194                     CC  \n",
              "958195                     CC  \n",
              "\n",
              "[5 rows x 22 columns]"
            ]
          },
          "execution_count": 50,
          "metadata": {},
          "output_type": "execute_result"
        }
      ],
      "source": [
        "filtered_dataset.tail(5)"
      ]
    },
    {
      "cell_type": "markdown",
      "metadata": {
        "id": "UHTXfxBNN6Qs"
      },
      "source": [
        "<h3>3.3. Variables de Intervalo</h3>\n",
        "\n",
        "Comúnmente las encuestas contendrán preguntas de tipo Likert con alternativas que buscan evaluar la opinión o satisfacción de los clientes respecto a ciertos tópicos. Este es un caso típico de variables de intervalo, y la encuesta solicitada por el Gerente de Marketing de Bimarc no es la excepción. La última pregunta realizada busca justamente medir la satisfacción con la experiencia de compra, cuestión que se codificó en escala Likert bajo la columna de Experiencia."
      ]
    },
    {
      "cell_type": "code",
      "execution_count": null,
      "metadata": {
        "id": "z4tLDe0ZSy5a"
      },
      "outputs": [],
      "source": [
        "# Experiencia is a column which contains answers to a Likert scale\n",
        "mapper_experience = {'Extremadamente insatisfecho': 1, 'Algo insatisfecho': 2,\n",
        "                     'Ni satisfecho ni insatisfecho': 3, 'Algo satisfecho': 4,\n",
        "                     'Extremadamente satisfecho': 5}\n",
        "\n",
        "dataset_numerico['Experiencia'] = dataset_numerico['Experiencia'].replace(\n",
        "    mapper_experience)"
      ]
    },
    {
      "cell_type": "markdown",
      "metadata": {
        "id": "QfpgZJXqf8Lf"
      },
      "source": [
        "<h3>3.4. Variables de Escala</h3>\n",
        "\n",
        "También de libro, las variables de escala suelen ser la edad y montos finitos como el consumo medido en pesos. En esta caso en particular, por representar la cantidad de días al mes que visitan el supermercado, se considerará también la frecuencia. Esta última variable es más discutible, pues su medición se puede (y suele) hacer de otras formas.\n",
        "\n",
        "Convenientemente, como todas estas variables ya son numéricas y contínuas, no realizaremos ningún tipo de transformación a continuación."
      ]
    },
    {
      "cell_type": "code",
      "execution_count": null,
      "metadata": {
        "id": "Mbt-lqWHgmGQ"
      },
      "outputs": [],
      "source": [
        "# The age contained in column Edad, as well as the frequency with which our\n",
        "# customer visits the supermarket in column Frecuencia, and the amount\n",
        "# registered in the receipt of that visit in Consumo are all already numeric\n",
        "# values and don't require further transformations"
      ]
    },
    {
      "cell_type": "markdown",
      "metadata": {},
      "source": [
        "A continuación vamos a normalizar ciertos valores de la tabla"
      ]
    },
    {
      "cell_type": "code",
      "execution_count": 38,
      "metadata": {},
      "outputs": [
        {
          "data": {
            "text/html": [
              "<div>\n",
              "<style scoped>\n",
              "    .dataframe tbody tr th:only-of-type {\n",
              "        vertical-align: middle;\n",
              "    }\n",
              "\n",
              "    .dataframe tbody tr th {\n",
              "        vertical-align: top;\n",
              "    }\n",
              "\n",
              "    .dataframe thead th {\n",
              "        text-align: right;\n",
              "    }\n",
              "</style>\n",
              "<table border=\"1\" class=\"dataframe\">\n",
              "  <thead>\n",
              "    <tr style=\"text-align: right;\">\n",
              "      <th></th>\n",
              "      <th>macrozona</th>\n",
              "      <th>folio_v</th>\n",
              "      <th>folio</th>\n",
              "      <th>n_linea</th>\n",
              "      <th>fe</th>\n",
              "      <th>estrato_muestreo</th>\n",
              "      <th>var_unit</th>\n",
              "      <th>id_gasto</th>\n",
              "      <th>cantidad</th>\n",
              "      <th>unidad_medida</th>\n",
              "      <th>...</th>\n",
              "      <th>cod_establecimiento</th>\n",
              "      <th>cantidad_inicial</th>\n",
              "      <th>unidad_medida_inicial</th>\n",
              "      <th>glosa_establecimiento_encoded</th>\n",
              "      <th>ccif_encoded</th>\n",
              "      <th>glosa_ccif_encoded</th>\n",
              "      <th>unidad_medida_inicial_encoded</th>\n",
              "      <th>gasto_normalizado</th>\n",
              "      <th>cantidad_normalizada</th>\n",
              "      <th>cantidad_inicial_normalizada</th>\n",
              "    </tr>\n",
              "  </thead>\n",
              "  <tbody>\n",
              "  </tbody>\n",
              "</table>\n",
              "<p>0 rows × 29 columns</p>\n",
              "</div>"
            ],
            "text/plain": [
              "Empty DataFrame\n",
              "Columns: [macrozona, folio_v, folio, n_linea, fe, estrato_muestreo, var_unit, id_gasto, cantidad, unidad_medida, glosa_ccif, ccif, d, g, c, sc, p, gasto, glosa_establecimiento, cod_establecimiento, cantidad_inicial, unidad_medida_inicial, glosa_establecimiento_encoded, ccif_encoded, glosa_ccif_encoded, unidad_medida_inicial_encoded, gasto_normalizado, cantidad_normalizada, cantidad_inicial_normalizada]\n",
              "Index: []\n",
              "\n",
              "[0 rows x 29 columns]"
            ]
          },
          "execution_count": 38,
          "metadata": {},
          "output_type": "execute_result"
        }
      ],
      "source": [
        "# Normalizar las columnas 'gasto', 'cantidad', y 'cantidad_inicial'\n",
        "filtered_dataset['gasto_normalizado'] = (filtered_dataset['gasto'] - filtered_dataset['gasto'].min()) / (filtered_dataset['gasto'].max() - filtered_dataset['gasto'].min())\n",
        "filtered_dataset['cantidad_normalizada'] = (filtered_dataset['cantidad'] - filtered_dataset['cantidad'].min()) / (filtered_dataset['cantidad'].max() - filtered_dataset['cantidad'].min())\n",
        "filtered_dataset['cantidad_inicial_normalizada'] = (filtered_dataset['cantidad_inicial'] - filtered_dataset['cantidad_inicial'].min()) / (filtered_dataset['cantidad_inicial'].max() - filtered_dataset['cantidad_inicial'].min())\n",
        "\n",
        "# Mostrar las primeras filas con las nuevas columnas normalizadas\n",
        "filtered_dataset.head(5)"
      ]
    },
    {
      "cell_type": "markdown",
      "metadata": {
        "id": "GcAWpQJ7VMCg"
      },
      "source": [
        "<h2>4. Enriquecimiento de los Datos</h2>\n",
        "\n",
        "Tras transformar los datos obtenidos a través de la encuesta, tenemos siempre la posibilidad de enriquecer la tabla cruzando la información de ésta con fuentes de terceros. En este caso, el equipo de Inteligencia de Negocios decidió cruzar la información de la comuna para crear un proxy de los ingresos, utilizando una tabla de pobreza por comuna y ubicación de éstas en la Región Metropolitana de Santiago. A continuación, podemos observar este procedimiento.\n",
        "\n",
        "<h3>4.1. Lectura y Transformación de la Tabla de Comunas</h3>"
      ]
    },
    {
      "cell_type": "code",
      "execution_count": null,
      "metadata": {
        "id": "hdAgnXxbVMjM"
      },
      "outputs": [],
      "source": [
        "#Importing the prospects dataset using pandas\n",
        "sheet_name = 'comunas_ejemplo'\n",
        "url = f\"https://docs.google.com/spreadsheets/d/{sheet_id}/gviz/tq?tqx=out:csv&sheet={sheet_name}\"\n",
        "dataset_comunas = pd.read_csv(url)\n",
        "\n",
        "# Transform Pobreza into a numeric variable\n",
        "dataset_comunas['Pobreza'] = dataset_comunas['Pobreza'].str.replace('%', '')\n",
        "dataset_comunas['Pobreza'] = dataset_comunas['Pobreza'].str.replace(',', '.')\n",
        "dataset_comunas['Pobreza'] = dataset_comunas['Pobreza'].astype(float) / 100"
      ]
    },
    {
      "cell_type": "markdown",
      "metadata": {
        "id": "WtvYilR_WV7x"
      },
      "source": [
        "<h3>4.2. Enriquecimiento de la Tabla Principal</h3>"
      ]
    },
    {
      "cell_type": "code",
      "execution_count": null,
      "metadata": {
        "id": "x7OMekuRWWV6"
      },
      "outputs": [],
      "source": [
        "# Copying dataset_numerico to dataset_enriquecido\n",
        "dataset_enriquecido = dataset_numerico.copy(deep=True)\n",
        "\n",
        "# Detect position of Comuna column\n",
        "comuna_index = dataset_enriquecido.columns.get_loc('Comuna')\n",
        "\n",
        "# Insert new columns after it with an income proxy\n",
        "dataset_enriquecido.insert(loc=comuna_index + 1, # and a broader location\n",
        "                           column='Pobreza de la Comuna', value=None)\n",
        "\n",
        "dataset_enriquecido.insert(loc=comuna_index, column='Ubicación', value=None)\n",
        "\n",
        "# Reverse mapper_city keys and values\n",
        "mapper_city_inv = {v: k for k, v in mapper_city.items()}\n",
        "\n",
        "# Categorize Comuna by Ubicación\n",
        "for i in dataset_enriquecido.index:\n",
        "    row = dataset_enriquecido.loc[i]\n",
        "    row_comuna = mapper_city_inv[row['Comuna']]\n",
        "\n",
        "    # Getting poverty and location from dataset_comunas\n",
        "    row_poberty = dataset_comunas[dataset_comunas['Comuna'] == row_comuna]\n",
        "    row_ubicacion = dataset_comunas[dataset_comunas['Comuna'] == row_comuna]\n",
        "\n",
        "    # Change values of the new columns for this index number\n",
        "    dataset_enriquecido.loc[i, 'Pobreza de la Comuna'] = row_poberty['Pobreza'].values[0]\n",
        "    dataset_enriquecido.loc[i, 'Ubicación'] = row_ubicacion['Ubicación'].values[0].title()\n",
        "\n",
        "# Transform Ubicación and Pobreza de la Comuna to numeric\n",
        "mapper_ubicacion = {ubicacion: i for i, ubicacion in enumerate(dataset_enriquecido['Ubicación'].unique())}\n",
        "dataset_enriquecido['Ubicación'] = dataset_enriquecido['Ubicación'].replace(mapper_ubicacion)\n",
        "\n",
        "dataset_enriquecido['Pobreza de la Comuna'] = dataset_enriquecido['Pobreza de la Comuna'].astype(float)"
      ]
    },
    {
      "cell_type": "markdown",
      "metadata": {
        "id": "N_A0zrPBhayV"
      },
      "source": [
        "Gracias al enriquecimento del dataset principal, ahora disponemos de un dataset enriquecido con la ubicación y pobreza porcentual de las comunas de la Región Metropolitana de Santiago. Es importante que usted lea y revise el código, pues varios de los métodos utilizados serán fundamentales para el desarrollo de la tarea asociada a este ejemplo.\n",
        "\n",
        "<h2>5. Revisión Primaria de la Tabla</h2>\n",
        "\n",
        "A continuación, revisaremos los tipos de variables obtenidos, corrigiendo aquellos que pudieran dar lugar a problemas. También presentaremos su estadística descriptiva y si acaso existen valores anómalos. Finalmente, estudiaremos la relación entre los pares de variables mediante una matriz de pares o pairplot, para ver variables tentativas para segmentar.\n",
        "\n",
        "<h3>5.1. Tipos de Variables</h3>\n",
        "\n",
        "Previo a la revisión de los tipos de variables, copiaremos también el dataset, de tal forma que se pueda hacer luego una auditoria forense de los datos. Como se explicó previamente, en casos en que las tablas son muy grandes esto podría ser contraproducente, pero por lo general es preferible en tablas pequeñas trabajar con copias, antes de modificar sus datos."
      ]
    },
    {
      "cell_type": "code",
      "execution_count": null,
      "metadata": {
        "colab": {
          "base_uri": "https://localhost:8080/"
        },
        "id": "f4VlqsNQ3Hit",
        "outputId": "3c764556-6952-4802-b74d-30083618f76b"
      },
      "outputs": [],
      "source": [
        "dataset_corregido = dataset_enriquecido.copy(deep=True)\n",
        "print(dataset_corregido.dtypes)"
      ]
    },
    {
      "cell_type": "markdown",
      "metadata": {
        "id": "s0641w3NixoG"
      },
      "source": [
        "Observemos que todas las variables son de tipo numérico, salvo por el Nivel Educacional. Esto suele pasar al transformar los datos, y se recomienda transformar los valores, antes que tratar de debuggear el problema.\n",
        "\n",
        "<h3>5.2. Corrección de Valores</h3>\n",
        "\n",
        "En algunos casos, la siguiente celda podría contener excepciones para no incluir en la estadística descriptiva variables que por su naturaleza no puedan o deban ser interpretadas de forma numérica. En esta ocación, bastará transformar el tipo de la columna Nivel Educacional a numérico. La función para transformar los datos se dejó abierta, de tal forma que usted la pueda utilizar para la tarea."
      ]
    },
    {
      "cell_type": "code",
      "execution_count": null,
      "metadata": {
        "colab": {
          "base_uri": "https://localhost:8080/"
        },
        "id": "NGLDM3nBiwbO",
        "outputId": "e7598c7f-fa14-4616-800e-ccd11c8bd6c1"
      },
      "outputs": [],
      "source": [
        "# Setting columns as numeric\n",
        "cols = ['Nivel Educacional']\n",
        "dataset_corregido[cols] = dataset_corregido[cols].apply(pd.to_numeric,\n",
        "                                                        errors='coerce')\n",
        "dataset_corregido.dtypes"
      ]
    },
    {
      "cell_type": "markdown",
      "metadata": {
        "id": "em88bByFjpX8"
      },
      "source": [
        "Observemos que la variable fue transformada a números decimales y no enteros. Esto se debe a la función to_numeric de pandas, y es recomendable para transformar en NA cualquier elemento que no pueda ser transformado a número. Observemos a continuación la estadística descriptiva de nuestra muestra:\n",
        "\n"
      ]
    },
    {
      "cell_type": "code",
      "execution_count": null,
      "metadata": {
        "colab": {
          "base_uri": "https://localhost:8080/",
          "height": 317
        },
        "id": "KHtqwUR9kypb",
        "outputId": "00e0fb2d-0054-4dad-b66a-2b19d1b96419"
      },
      "outputs": [],
      "source": [
        "dataset_corregido.describe()"
      ]
    },
    {
      "cell_type": "markdown",
      "metadata": {
        "id": "DED7ZfDurt0V"
      },
      "source": [
        "Nuevamente, el recuento de observaciones para las variables cubre la totalidad de la muestra, salvo para el Nivel Educacional. Dada la magnitud del problema, y lo simple de la pregunta subyacente, procederemos a filtrar para revisar manualmente. Por intuición, y dada la naturaleza del muestreo, podemos esperar ver errores de codificación de las respuestas.\n",
        "\n",
        "<h3>5.3. Corrección Manual de Errores</h3>"
      ]
    },
    {
      "cell_type": "code",
      "execution_count": null,
      "metadata": {
        "colab": {
          "base_uri": "https://localhost:8080/",
          "height": 143
        },
        "id": "Ycw8RTqgk-WD",
        "outputId": "0d12d67e-e2ae-43f5-ada1-b1ce7b6acbdc"
      },
      "outputs": [],
      "source": [
        "dataset[dataset_corregido['Nivel Educacional'].isna()].tail(3)"
      ]
    },
    {
      "cell_type": "markdown",
      "metadata": {
        "id": "RscOQ8MLsbOL"
      },
      "source": [
        "Efectivamente, observamos un error de tipeo que impedía que el diccionario para mapear la variable operara sobre las respuestas. Existen alternativas automatizadas que se basan en la similitud de las palabras para corregir este tipo de problemas, pero por la cantidad y simplicidad del problema, simplemente utilizaremos comandos de pandas para ello."
      ]
    },
    {
      "cell_type": "code",
      "execution_count": null,
      "metadata": {
        "id": "lQs_aGlJlMHH"
      },
      "outputs": [],
      "source": [
        "dataset_corregido.loc[dataset_corregido['Nivel Educacional'].isna(),\n",
        "                      'Nivel Educacional'] = 0"
      ]
    },
    {
      "cell_type": "markdown",
      "metadata": {
        "id": "_x8Fa5JyuLz_"
      },
      "source": [
        "Volveremos a revisar la estadística descriptiva, para validar si acaso los cambios surtieron efecto:"
      ]
    },
    {
      "cell_type": "code",
      "execution_count": null,
      "metadata": {
        "colab": {
          "base_uri": "https://localhost:8080/",
          "height": 317
        },
        "id": "7w3p22U_lYpQ",
        "outputId": "a1768924-d836-4f6c-adfd-12abefff8e23"
      },
      "outputs": [],
      "source": [
        "dataset_corregido.describe()"
      ]
    },
    {
      "cell_type": "markdown",
      "metadata": {
        "id": "UEDD7y84k7ip"
      },
      "source": [
        "Otro aspecto clave a considerar, es la heterogénea distribución de la media y la varianza de las variables observadas. Esto podría dar lugar a problemas más adelante y, por lo general, se recomienda normalizar los datos para facilitar su trabajo.\n",
        "\n",
        "<h2>6. Visualización de los Datos</h2>\n",
        "\n",
        "Para visualizar los datos, lo más que podemos hacer es hacerlo en tres dimensiones. Ya analizamos la estadística descriptiva, que podría ser interpretada como la visualización en una dimensión. A continuación, haremos lo propio para las dimensiones que faltan.\n",
        "\n",
        "<h3>6.1. Visualización de dos Dimensiones</h3>\n",
        "\n",
        "Primero, y mediante la función <code>pairplot</code> de la librería seaborn, observaremos la estructura de los datos y sus relaciones entre pares. Con ello, podemos determinar visualmente qué variables presentan un mayor potencial para generar grupos distintos entre sí.\n",
        "\n",
        "Pese a la advertencia acerca de la magnitud de los valores que toman nuestras variables, en el caso del pairplot esto no afectará la interpretación, ya que la escala de los ejes controla por este problema. No se preocupe si la ejecución de esta celda toma varios minutos, es normal y sólo debe esperar."
      ]
    },
    {
      "cell_type": "code",
      "execution_count": null,
      "metadata": {
        "colab": {
          "base_uri": "https://localhost:8080/",
          "height": 1000
        },
        "id": "iHuiFWr1ujv_",
        "outputId": "21bd577e-8936-448b-87f6-694db354841c"
      },
      "outputs": [],
      "source": [
        "# Excluding spurious variables from our columns' dataset\n",
        "cols = [col for col in dataset_corregido.columns if col != 'Identificador']\n",
        "\n",
        "# Plot pairwise relationships in our dataset\n",
        "pairwise_plot = sns.pairplot(dataset_corregido[cols])"
      ]
    },
    {
      "cell_type": "markdown",
      "metadata": {
        "id": "iDeHCu6fQqEo"
      },
      "source": [
        "La mayoría de los gráficos generados corresponde a nubes de puntos sin mayor interpretación posible. Otros tantos son gráficos de variables booleanas o con muy pocas alternativas como para detectar patrones claros.\n",
        "\n",
        "Sin embargo, sí hay ciertas variables que al interactuar una con la otra se dividen en grupos o marcan tendencias. Ejemplos de ello son la edad con el consumo, la pobreza de la comuna con el consumo y la frecuencia de compra con el consumo. No tomaremos en cuenta la comuna, pues esta variable nos sirvió de llave para medir la pobreza, y por lo tanto nuestro análisis se centrará la variable que derivamos.\n",
        "\n",
        "<h3>6.2. Visualización en Tres Dimensiones</h3>\n",
        "\n",
        "Evidentemente, el consumo será una variable que analizaremos. La edad no es tan atractiva, pues reconocemos dos grandes grupos, pero dentro de cada uno la edad es indistinta. La pobreza y la frecuencia sí serán variables atractivas y, si graficamos, podremos observar que efectivamente se crean grupos dentro de la muestra.\n",
        "\n"
      ]
    },
    {
      "cell_type": "code",
      "execution_count": null,
      "metadata": {
        "colab": {
          "base_uri": "https://localhost:8080/",
          "height": 542
        },
        "id": "K44V34oS2MPa",
        "outputId": "5c377399-33db-4328-91ca-e5c0329840b5"
      },
      "outputs": [],
      "source": [
        "# Visualize up to three variables using a 3d scatter plot with plotly\n",
        "fig = px.scatter_3d(dataset_corregido, x='Consumo', y='Pobreza de la Comuna',\n",
        "                    z='Frecuencia')\n",
        "\n",
        "fig.update_layout(scene=dict(xaxis=dict(range=[600000, 0])))\n",
        "fig.update_layout(scene=dict(yaxis=dict(range=[0.35, 0])))\n",
        "\n",
        "fig.show()"
      ]
    },
    {
      "cell_type": "markdown",
      "metadata": {
        "id": "vzkVeQVqp0Qm"
      },
      "source": [
        "Con los análisis anteriormente realizados, y si etiquetamos y revisamos exhaustivamente cada uno de los grupos, podríamos dar con una buena segmentación a priori.\n",
        "\n",
        "No obstante, esto sólo nos servirá para identificar el número de segmentos hasta las tres dimensiones. Para segmentos cuyas variables críticas sean más de tres, tendremos que utilizar métodos estadísticos más complejos, como los que veremos a continuación.\n",
        "\n",
        "<h2>7. Algoritmos de Segmentación Jerárquica</h2>\n",
        "\n",
        "Se denomina segmentación jerárquica a aquella cuyos grupos comparten una raíz común en la muestra, separándose gradualmente y en forma interconectada en diferentes ramas. A continuación, importaremos las librerías específicas para realizar estas operaciones."
      ]
    },
    {
      "cell_type": "code",
      "execution_count": null,
      "metadata": {
        "id": "PNn1U23Z6-1m"
      },
      "outputs": [],
      "source": [
        "# Clustering Libraries\n",
        "import scipy.cluster.hierarchy as sch\n",
        "from sklearn.cluster import AgglomerativeClustering"
      ]
    },
    {
      "cell_type": "markdown",
      "metadata": {
        "id": "0V2nLnfH69p6"
      },
      "source": [
        "<h3>7.1. Normalización, Depuración y Dendogramas</h3>\n",
        "\n",
        "Normalmente, este ejercicio se inicia con la construcción de una gráfica denominada dendograma. En este caso, aplicaremos el método de mínima varianza de Ward para minimizar la varianza entre los clústers."
      ]
    },
    {
      "cell_type": "code",
      "execution_count": null,
      "metadata": {
        "colab": {
          "base_uri": "https://localhost:8080/",
          "height": 641
        },
        "id": "HYHmGKo1vnt9",
        "outputId": "56fe8f48-a3b9-423f-8b60-20ca6c7b13ba"
      },
      "outputs": [],
      "source": [
        "# Preparing our plot\n",
        "plt.figure(figsize=(10, 7))\n",
        "plt.title(\"Customers Dendrogram\")\n",
        "plt.ylabel('Euclidean distances')\n",
        "plt.xlabel('Customers')\n",
        "\n",
        "# Selecting Annual Income and Spending Scores by index\n",
        "excluded_cols = ['Identificador']\n",
        "filtered_cols = [col for col in dataset_corregido.columns\n",
        "                 if col not in excluded_cols]\n",
        "\n",
        "selected_data = dataset_corregido[filtered_cols].copy(deep=True) #[['Consumo', 'Frecuencia', 'Pobreza de la Comuna']]\n",
        "\n",
        "clusters = sch.linkage(selected_data, method='ward', metric=\"euclidean\")\n",
        "\n",
        "# Aproximation to the number of clusters\n",
        "plt.axhline(y = 500, color = 'r', linestyle = '-')\n",
        "\n",
        "# Creating and showing our dendogram\n",
        "sch.dendrogram(Z=clusters)\n",
        "plt.show()"
      ]
    },
    {
      "cell_type": "markdown",
      "metadata": {
        "id": "2Pf85X02Glpn"
      },
      "source": [
        "Para determinar la cantidad de clústers, observaremos las distancias euclidianas, buscando el punto en que ellas son más largas, para luego trazar una línea horizontal aproximadamente por la mitad, en lo que se denomina \"el método de Thorndike\". La cantidad de verticales que atraviese es considerada una buena aproximación a la cantidad de clústers que tendremos en nuestra muestra [(Thorndike, 1953)](https://citeseerx.ist.psu.edu/viewdoc/summary?doi=10.1.1.177.7605).\n",
        "\n",
        "Dada la segmentación a priori, sabemos que contamos con al menos tres segmentos. Aplicando el método de Thorndike, tendríamos que concluir que en la muestra se observan dos segmentos. Sin embargo, y como mencionamos previamente, sabemos que en nuestra muestra hay variables cuya magnitud podría estar afectando nuestros análisis. Una forma de controlar por ello es normalizando los datos, cuestión que haremos a continuación."
      ]
    },
    {
      "cell_type": "code",
      "execution_count": null,
      "metadata": {
        "id": "1L84FjvDVM7I"
      },
      "outputs": [],
      "source": [
        "dataset_normalized = dataset_corregido.copy(deep=True)\n",
        "\n",
        "# Normalize each column of the dataset\n",
        "for column in dataset_normalized.columns:\n",
        "    # Check if column is numeric\n",
        "    if dataset_normalized[column].dtype == 'object':\n",
        "        continue\n",
        "\n",
        "    # Normalize column\n",
        "    dataset_normalized[column] = (dataset_normalized[column] - dataset_normalized[column].min()) / \\\n",
        "                                  (dataset_normalized[column].max() - dataset_normalized[column].min())\n",
        "\n",
        "    # Transform NA values to zero\n",
        "    dataset_normalized[column] = dataset_normalized[column].fillna(0)\n",
        "\n",
        "    # Multiply by 100 to get a percentage and transform to int\n",
        "    dataset_normalized[column] = (dataset_normalized[column] * 100).astype(int)"
      ]
    },
    {
      "cell_type": "markdown",
      "metadata": {
        "id": "YRsnLwVIydMS"
      },
      "source": [
        "Tenga en cuenta, que para ejecutar el algoritmo que genera el dendograma, fue necesario transformar los valores normalizados de números decimales a enteros, multiplicando por 100 y forzando las columnas a tipo entero. Así, habiendo normalizado y transformado los datos, podemos analizar nuevamente el dendograma y evaluar si se corrigieron o no los problemas."
      ]
    },
    {
      "cell_type": "code",
      "execution_count": null,
      "metadata": {
        "colab": {
          "base_uri": "https://localhost:8080/",
          "height": 641
        },
        "id": "55JKOZbPLGyb",
        "outputId": "a08f7d34-b43a-4ba8-86b8-69de48206e6f"
      },
      "outputs": [],
      "source": [
        "# Preparing our plot\n",
        "plt.figure(figsize=(10, 7))\n",
        "plt.title(\"Customers Dendrogram\")\n",
        "plt.ylabel('Euclidean distances')\n",
        "plt.xlabel('Customers')\n",
        "\n",
        "# Selecting Annual Income and Spending Scores by index\n",
        "excluded_cols = ['Identificador']\n",
        "filtered_cols = [col for col in dataset_normalized.columns\n",
        "                 if col not in excluded_cols]\n",
        "\n",
        "selected_data = dataset_normalized[filtered_cols].copy(deep=True)\n",
        "clusters = sch.linkage(selected_data, method='ward', metric=\"euclidean\")\n",
        "\n",
        "# Creating and showing our dendogram\n",
        "sch.dendrogram(Z=clusters)\n",
        "plt.show()"
      ]
    },
    {
      "cell_type": "markdown",
      "metadata": {
        "id": "WqlXPw1RzGmm"
      },
      "source": [
        "Lamentablemente, aún cuando normalizamos los datos, el dendograma sigue sin arrojar un resultado correcto. Esta vez, el problema se debe a la presencia de variables espúreas, ya que no contribuyen más que sólo ruido. Así, y con el afán de depurar nuestra base, reduciremos el caso a las variables que presentan los patrones más notorios en nuestro pairplot:"
      ]
    },
    {
      "cell_type": "code",
      "execution_count": null,
      "metadata": {
        "colab": {
          "base_uri": "https://localhost:8080/",
          "height": 641
        },
        "id": "X7YUdBbAz2iq",
        "outputId": "b3e49658-ba5f-4b68-ddeb-248274ac6437"
      },
      "outputs": [],
      "source": [
        "# Preparing our plot\n",
        "plt.figure(figsize=(10, 7))\n",
        "plt.title(\"Customers Dendrogram\")\n",
        "plt.ylabel('Euclidean distances')\n",
        "plt.xlabel('Customers')\n",
        "\n",
        "# Selecting Annual Income and Spending Scores by index\n",
        "excluded_cols = ['Identificador', 'Edad', 'Nacionalidad', 'Comuna',\n",
        "                 'Ubicación', 'Local', 'Segmento', 'Experiencia']\n",
        "\n",
        "filtered_cols = [col for col in dataset_normalized.columns\n",
        "                 if col not in excluded_cols]\n",
        "\n",
        "selected_data = dataset_normalized[filtered_cols].copy(deep=True)\n",
        "\n",
        "clusters = sch.linkage(selected_data, method='ward', metric=\"euclidean\")\n",
        "\n",
        "# Aproximation to the number of clusters\n",
        "plt.axhline(y = 500, color = 'r', linestyle = '-')\n",
        "\n",
        "# Creating and showing our dendogram\n",
        "sch.dendrogram(Z=clusters)\n",
        "plt.show()"
      ]
    },
    {
      "cell_type": "markdown",
      "metadata": {
        "id": "Ib0bP-UGPTSQ"
      },
      "source": [
        "<h3>7.2. Visualización de los Segmentos Creados</h3>\n",
        "\n",
        "Existen dos algoritmos para clusterizar en forma jerárquica: los aglomerativos y los divisivos. En este ejercicio utilizaremos una estrategia aglomerativa, donde cada observación comienza en su propio grupo, y los pares de grupos son mezclados mientras uno sube en la jerarquía, en forma ascendente.\n",
        "\n",
        "No obstante, y tanto para la determinación del número de grupos por medio del dendograma como para la clasificación de los individuos de nuestra muestra, se recomienda hacer uso de diferentes vínculos y métricas, y observar los resultados generados con una perspectiva de negocios [(Sampaio, 2022)](https://stackabuse.com/hierarchical-clustering-with-python-and-scikit-learn/)."
      ]
    },
    {
      "cell_type": "code",
      "execution_count": null,
      "metadata": {
        "colab": {
          "base_uri": "https://localhost:8080/",
          "height": 667
        },
        "id": "XXWKtrbS6Eig",
        "outputId": "d22332d8-64d8-4055-f3f6-4a36c3922926"
      },
      "outputs": [],
      "source": [
        "# Divisive Hierarchical Clustering using the euclidean distance and ward method\n",
        "clustering_model = AgglomerativeClustering(n_clusters=3, metric='euclidean',\n",
        "                                           linkage='ward')\n",
        "clustering_model.fit(selected_data)\n",
        "\n",
        "# Accessing vars of the clustering object\n",
        "data_labels_v1 = clustering_model.labels_\n",
        "\n",
        "# Visualization of our graph\n",
        "sns.set(rc={'figure.figsize':(10, 7)})\n",
        "sns.scatterplot(x='Consumo', y='Pobreza de la Comuna', data=selected_data,\n",
        "                palette=\"rainbow\", hue=data_labels_v1)\\\n",
        "                .set_title('Labeled Customer Data')"
      ]
    },
    {
      "cell_type": "markdown",
      "metadata": {
        "id": "VuPM03KqfnfV"
      },
      "source": [
        "<h3>7.3. Asignación de los Segmentos a la Muestra</h3>\n",
        "\n",
        "Por último, agregamos una columna a nuestro dataset, cuyo contenido viene dado por las operaciones previas y permite asignar el grupo correcto a cada individuo.."
      ]
    },
    {
      "cell_type": "code",
      "execution_count": null,
      "metadata": {
        "colab": {
          "base_uri": "https://localhost:8080/",
          "height": 632
        },
        "id": "OedYqyRHfrJM",
        "outputId": "cc839722-8a00-4a19-d2af-6b146be7424c"
      },
      "outputs": [],
      "source": [
        "# Copying our dataset to avoid future issues\n",
        "dataset_segmented_v1 = dataset_corregido.copy(deep=True)\n",
        "\n",
        "# Adding clusters and reverting values from numeric\n",
        "segments = [f'cluster_{group + 1:02d}' for group in data_labels_v1]\n",
        "dataset_segmented_v1.insert(loc=1, column='segment', value=segments)\n",
        "\n",
        "dict_mappers = {'Sexo': mapper_sex, 'Nacionalidad': mapper_nationality,\n",
        "                'Nivel Educacional': mapper_education,\n",
        "                'Ubicación': mapper_ubicacion, 'Comuna': mapper_city,\n",
        "                'Local': mapper_local, 'Experiencia': mapper_experience}\n",
        "\n",
        "for col, mapper in dict_mappers.items():\n",
        "  mapper_inv = {v: k for k, v in mapper.items()}\n",
        "  dataset_segmented_v1[col] = dataset_segmented_v1[col].replace(mapper_inv)\n",
        "\n",
        "dataset_segmented_v1.sort_values(by=['segment', 'Identificador'], inplace=True)\n",
        "dataset_segmented_v1"
      ]
    },
    {
      "cell_type": "markdown",
      "metadata": {
        "id": "PeqegkMl6j9-"
      },
      "source": [
        "<h2>8. Algoritmos de Segmentación No-Jerárquica</h2>\n",
        "\n",
        "La segmentación no jerárquica implica la formación de grupos fusionando o dividiendo los clústers en forma no ramificada. Estas técnicas agrupan los datos para maximizar o minimizar algunos criterios de evaluación. K-Means es un algoritmo simple de *machine learning* de tipo no-supervisado que agrupa los datos en un número específico (k) de grupos."
      ]
    },
    {
      "cell_type": "code",
      "execution_count": null,
      "metadata": {
        "id": "4yBttdAxv2Hd"
      },
      "outputs": [],
      "source": [
        "# Clustering Libraries\n",
        "from sklearn.cluster import KMeans\n",
        "from yellowbrick.cluster.elbow import kelbow_visualizer"
      ]
    },
    {
      "cell_type": "markdown",
      "metadata": {
        "id": "vjfPZWya-Jd0"
      },
      "source": [
        "<h3>8.1. Definición de la cantidad de Clústers</h3>\n",
        "\n",
        "A continuación, filtraremos la mínima cantidad de variables con las que podemos correr el método del \"codo\" para definir la cantidad de segmentos a crear. Al igual que en el método jerárquico, seguramente necesitemos normalizar y omitir una serie de variables para que nuestro modelo sea parsimonioso.\n",
        "\n",
        "De todas formas, es útil observar el proceso completo y ver cómo aplica en la práctica el concepto de que si entran datos de mala calidad a un modelo, los resultados de éste también serán de mala calidad. A este concepto se lo conoce por la sigla GIGO (Garbage In, Garbage Out) y se le atribuye a George Fuechsel (2004)."
      ]
    },
    {
      "cell_type": "code",
      "execution_count": null,
      "metadata": {
        "id": "uC-abFHpDy25"
      },
      "outputs": [],
      "source": [
        "# Selecting Annual Income and Spending Scores by index\n",
        "excluded_cols = ['Identificador']\n",
        "cols = [col for col in dataset_corregido.columns if col not in excluded_cols]\n",
        "base_data = dataset_corregido[cols].copy(deep=True)"
      ]
    },
    {
      "cell_type": "markdown",
      "metadata": {
        "id": "uAkM0jbIDzSt"
      },
      "source": [
        "Filtrados ya los datos, crearemos una función que calcula el algoritmo de k-medias en un loop entre 2 y 11 clústers, para así determinar el óptimo observando la suma del cuadrado de las distancias entre grupos (WCSS, por sus siglas en inglés):\n",
        "\n",
        "\\begin{align}\n",
        "WCSS = \\sum_{i\\in n} (X_i-Y_i)^2\n",
        "\\end{align}\n",
        "\n",
        "A continuación, haremos el ejercicio manualmente en un *for loop*:"
      ]
    },
    {
      "cell_type": "code",
      "execution_count": null,
      "metadata": {
        "id": "wZ8NS8m09_Ha"
      },
      "outputs": [],
      "source": [
        "def manual_elbow(selected_data):\n",
        "  # Storing processed information and models\n",
        "  df_kmeans = pd.DataFrame(columns=['clusters', 'wcss'])\n",
        "  dict_kmeans = {}\n",
        "\n",
        "  for i in range(1, 11):\n",
        "    df_kmeans.loc[i, 'clusters'] = i\n",
        "\n",
        "    # Definition of our k-means model and fitting our model\n",
        "    kmeans = KMeans(n_clusters=i, init='k-means++', max_iter=300,\n",
        "                    n_init=10, random_state=0)\n",
        "\n",
        "    y_kmeans = kmeans.fit(selected_data)\n",
        "\n",
        "    # Sum of squared distances to the closest cluster center\n",
        "    df_kmeans.loc[i, 'wcss'] = kmeans.inertia_\n",
        "\n",
        "    # Storing all variables for our specific\n",
        "    dict_kmeans[i] = y_kmeans\n",
        "\n",
        "  return {'df': df_kmeans, 'dict': dict_kmeans}"
      ]
    },
    {
      "cell_type": "markdown",
      "metadata": {
        "id": "VCYUJcI6ERrL"
      },
      "source": [
        "El número óptimo de clústers se define visualmente, observando el punto donde la pendiente de la curva se suaviza. El nombre del método viene dado imaginando que la curva fuera un brazo apoyado sobre una superficie, donde el punto de inflexión sería el codo."
      ]
    },
    {
      "cell_type": "code",
      "execution_count": null,
      "metadata": {
        "colab": {
          "base_uri": "https://localhost:8080/",
          "height": 524
        },
        "id": "2_NdvLpXEEd-",
        "outputId": "de4cb83d-7e06-4c3e-b51b-1af5f6c12e09"
      },
      "outputs": [],
      "source": [
        "kmeans_base = manual_elbow(base_data)\n",
        "\n",
        "# Plot the elbow graph\n",
        "plt.plot(kmeans_base['df'].index.to_list(), kmeans_base['df']['wcss'].to_list())\n",
        "plt.title('The Elbow Method Graph')\n",
        "plt.xlabel('Number of clusters')\n",
        "plt.ylabel('WCSS')\n",
        "\n",
        "# Visual proximation to the number of clusters\n",
        "plt.axvline(x=2, color='r', linestyle='-')\n",
        "\n",
        "# Plotting\n",
        "plt.show()"
      ]
    },
    {
      "cell_type": "markdown",
      "metadata": {
        "id": "Di0aAMj0EeZC"
      },
      "source": [
        "Evidentemente, los datos son el problema y, en esencia, estamos en presencia de un problema similar al del punto 7.1. Conocida ya la solución, simplemente utilizaremos el DataFrame generado en ese punto, excluyendo también las mismas columnas."
      ]
    },
    {
      "cell_type": "code",
      "execution_count": null,
      "metadata": {
        "colab": {
          "base_uri": "https://localhost:8080/",
          "height": 524
        },
        "id": "J_2EVx-bAEbx",
        "outputId": "027db1ca-b60a-429a-b083-102c4b3b630c"
      },
      "outputs": [],
      "source": [
        "# Selecting Annual Income and Spending Scores by index\n",
        "excluded_cols = ['Identificador', 'Edad', 'Nacionalidad', 'Comuna',\n",
        "                 'Ubicación', 'Local', 'Segmento', 'Experiencia']\n",
        "\n",
        "filtered_cols = [col for col in dataset_normalized.columns\n",
        "                 if col not in excluded_cols]\n",
        "\n",
        "selected_data = dataset_normalized[filtered_cols].copy(deep=True)\n",
        "kmeans = manual_elbow(selected_data)\n",
        "\n",
        "# Plot the elbow graph\n",
        "plt.plot(kmeans['df'].index.to_list(), kmeans['df']['wcss'].to_list())\n",
        "plt.title('The Elbow Method Graph')\n",
        "plt.xlabel('Number of clusters')\n",
        "plt.ylabel('WCSS')\n",
        "\n",
        "# Visual proximation to the number of clusters\n",
        "plt.axvline(x=3, color='r', linestyle='-')\n",
        "\n",
        "# Plotting\n",
        "plt.show()"
      ]
    },
    {
      "cell_type": "markdown",
      "metadata": {
        "id": "aLyrkwFy_M7j"
      },
      "source": [
        "<h3>8.2. Cálculo Matemático del Óptimo</h3>\n",
        "\n",
        "A continuación, se presenta una aproximación matemática al óptimo número de grupos a formarse en nuestro proceso de segmentación. Más información y detalle en el artículo de [Granville (2019)](https://www.datasciencecentral.com/how-to-automatically-determine-the-number-of-clusters-in-your-dat/)."
      ]
    },
    {
      "cell_type": "code",
      "execution_count": null,
      "metadata": {
        "colab": {
          "base_uri": "https://localhost:8080/",
          "height": 429
        },
        "id": "icHyh9vE_SVp",
        "outputId": "73a93881-f312-467b-9895-eb6aba9ace93"
      },
      "outputs": [],
      "source": [
        "# Copying our dataset to avoid future issues\n",
        "df_optimal = kmeans['df'].copy(deep=True)\n",
        "\n",
        "for i in range(df_optimal.shape[0]):\n",
        "  index = df_optimal.index[i]\n",
        "\n",
        "  if i > 0: # Avoiding first value for which there's no delta\n",
        "    delta01 = df_optimal.loc[index-1, 'wcss'] - df_optimal.loc[index, 'wcss']\n",
        "    df_optimal.loc[index, 'Delta 1'] = delta01\n",
        "\n",
        "  if i > 1: # Avoiding second value for which there's no delta\n",
        "    delta02 = df_optimal.loc[index-1, 'Delta 1'] - df_optimal.loc[index, 'Delta 1']\n",
        "    df_optimal.loc[index, 'Delta 2'] = delta02\n",
        "\n",
        "    # Strenght calculations and filters\n",
        "    strenght = df_optimal.loc[index-1, 'Delta 2'] - df_optimal.loc[index, 'Delta 1']\n",
        "    df_optimal.loc[index, 'Strenght'] = next(s if s > 1 else None\n",
        "                                             for s in [strenght])\n",
        "\n",
        "df_optimal['Relative Strenght'] = df_optimal['Strenght'] / df_optimal.index\n",
        "df_optimal.set_index(keys='clusters', drop=True, inplace=True)\n",
        "\n",
        "# Optimal k by strenght values\n",
        "max_strenght = df_optimal['Relative Strenght'].max()\n",
        "optimal_k = df_optimal[df_optimal['Relative Strenght']==max_strenght].index[0]\n",
        "\n",
        "# Display of calculation tables\n",
        "display(df_optimal)\n",
        "\n",
        "print(f'\\nEl número óptimo es de {optimal_k} clústers.')"
      ]
    },
    {
      "cell_type": "markdown",
      "metadata": {
        "id": "lrYRDDjF_fCH"
      },
      "source": [
        "Lamentablemente, en este caso el resultado no es el esperado. Más que desalentar el uso de este método, considere este resultado como una motivación al uso de diversas aproximaciones al número correcto de clústeres. Esto explica la interrogante frecuente del por qué utilizar métodos no-jerárquicos, si ya concluimos con el modelo del punto 7, por ejemplo.\n",
        "\n",
        "<h3>8.3. Definición Automática del Número de Clústers</h3>\n",
        "\n",
        "Una de las bondades de utilizar Python frente a otras herramientas para hacer estadísticas, es el gran número de contribuidores que trabajan constantemente para simplificar los métodos y funciones más utilizados en sus respectivas áreas de estudio. Así, la librería <code>yellowbrick</code> nos ofrece una alternativa sencilla para la determinación del número de clústers mediante el método del codo.\n",
        "\n",
        "Se recomienda utilizar este enfoque a futuro, aunque para el ejercicio propuesto se pide desarrollar el algoritmo mediante la estrategia anterior, pudiéndose corroborar los resultados con este enfoque."
      ]
    },
    {
      "cell_type": "markdown",
      "metadata": {
        "id": "HUZLeZcZVfaI"
      },
      "source": []
    },
    {
      "cell_type": "code",
      "execution_count": null,
      "metadata": {
        "colab": {
          "base_uri": "https://localhost:8080/",
          "height": 727
        },
        "id": "-WRjSm9z_fdC",
        "outputId": "c3850563-99a7-401b-d083-e544de8eb668"
      },
      "outputs": [],
      "source": [
        "  # UMétodo rápido para determinar el número de clústers\n",
        "kelbow_visualizer(KMeans(random_state=5, n_init='auto'),\n",
        "                  selected_data, k=(1,11))"
      ]
    },
    {
      "cell_type": "markdown",
      "metadata": {
        "id": "yqG6YSRFFdEt"
      },
      "source": [
        "Gracias a yellowbrick, y por la coincidencia de los resultados de las aproximaciones a la cantidad de clústeres de ambos modelos, podemos tranquilamente afirmar que estamos en presencia de tres segmentos.\n",
        "\n",
        "<h3>8.4. Visualización de los Segmentos Creados</h3>\n",
        "\n",
        "Este paso no es realmente necesario, pero al igual que en el caso jerárquico, nos permite monitorear el rendimiento de los algoritmos aplicados en la clasificación realizada. Así, el objetivo es determinar visualmente si los clústers creados se condicen con la observación inicial y los resultados esperados."
      ]
    },
    {
      "cell_type": "code",
      "execution_count": null,
      "metadata": {
        "colab": {
          "base_uri": "https://localhost:8080/",
          "height": 671
        },
        "id": "2WUBX52XF03L",
        "outputId": "df0c72ba-2d4e-42de-e75c-deff13e3c0cd"
      },
      "outputs": [],
      "source": [
        "# Final clustering model\n",
        "clustering_model = kmeans['dict'][3]\n",
        "\n",
        "# Accessing vars of the clustering object\n",
        "data_labels_v2 = clustering_model.labels_\n",
        "\n",
        "# Visualization of our graph\n",
        "sns.set(rc={'figure.figsize':(10, 7)})\n",
        "sns.scatterplot(x='Consumo', y='Pobreza de la Comuna', data=selected_data,\n",
        "                palette=\"rainbow\", hue=data_labels_v2)\\\n",
        "                .set_title('Labeled Customer Data')"
      ]
    },
    {
      "cell_type": "markdown",
      "metadata": {
        "id": "qJEWZpllKxty"
      },
      "source": [
        "<h3>8.5. Asignación de los Segmentos a la Muestra</h3>\n",
        "\n",
        "Por último, agregamos una columna a nuestro dataset, cuyo contenido viene dado por las operaciones previas y permite asignar el grupo correcto a cada individuo. Al contar con los DataFrames de uno y otro método, podremos determinar la efectividad de ambos modelos para reconocer cada segmento, además de analizar las diferencias entre ambos."
      ]
    },
    {
      "cell_type": "code",
      "execution_count": null,
      "metadata": {
        "colab": {
          "base_uri": "https://localhost:8080/",
          "height": 614
        },
        "id": "xLg3o916LFvu",
        "outputId": "4a5f832e-6fea-46d6-83af-7249486debf2"
      },
      "outputs": [],
      "source": [
        "# Copying our dataset to avoid future issues\n",
        "dataset_segmented_v2 = dataset_corregido.copy(deep=True)\n",
        "\n",
        "# Adding clusters and reverting values from numeric\n",
        "segments = [f'cluster_{group + 1:02d}' for group in data_labels_v2]\n",
        "dataset_segmented_v2.insert(loc=1, column='segment', value=segments)\n",
        "\n",
        "dict_mappers = {'Sexo': mapper_sex, 'Nacionalidad': mapper_nationality,\n",
        "                'Nivel Educacional': mapper_education,\n",
        "                'Ubicación': mapper_ubicacion, 'Comuna': mapper_city,\n",
        "                'Local': mapper_local, 'Experiencia': mapper_experience}\n",
        "\n",
        "for col, mapper in dict_mappers.items():\n",
        "  mapper_inv = {v: k for k, v in mapper.items()}\n",
        "  dataset_segmented_v2[col] = dataset_segmented_v2[col].replace(mapper_inv)\n",
        "\n",
        "dataset_segmented_v2.sort_values(by=['segment', 'Identificador'], inplace=True)\n",
        "dataset_segmented_v2"
      ]
    },
    {
      "cell_type": "markdown",
      "metadata": {
        "id": "n7fnkdHfKjCN"
      },
      "source": [
        "<h2>9. Definición de Perfiles y Buyer Personas</h2>\n",
        "\n",
        "Generar perfiles implica generar una tipología o descripción de los consumidores que conformarán el o los mercados objetivos seleccionados. Se basan en las características compartidas por las personas de un segmento y, cuando se expresan como grupo, al que se le asigna un nombre genérico, o en la “persona” de un individuo tipo que podemos inventar para efectos del ejercicio en cuestión, dan lugar al concepto de buyer persona. Idealmente, se debiera incluir una descripción, motivaciones, y el rol que la marca podría llevar a cabo en la forma de satisfacer sus necesidades.\n",
        "\n",
        "<h3>9.1. Comparación de los Resultados</h3>\n",
        "\n",
        "A continuación, revisaremos si se encontraron diferencias en los segmentos definidos por ambos modelos. Para esto, utilizaremos una función nativa de Pandas, con la que veremos las filas que difieren entre las tablas."
      ]
    },
    {
      "cell_type": "code",
      "execution_count": null,
      "metadata": {
        "colab": {
          "base_uri": "https://localhost:8080/"
        },
        "id": "VEOVbeyHMU5X",
        "outputId": "5be60964-e759-4816-b456-408ec07c4eeb"
      },
      "outputs": [],
      "source": [
        "# If needed, we adjust for the segments' number\n",
        "mapper_segments = {'cluster_01': 'cluster_03', 'cluster_02': 'cluster_01',\n",
        "                   'cluster_03': 'cluster_02'}\n",
        "\n",
        "dataset_segmented_v2['segment'] = dataset_segmented_v2['segment'].replace(\n",
        "    mapper_segments)\n",
        "\n",
        "dataset_segmented_v2.sort_values(by=['segment', 'Identificador'], inplace=True)\n",
        "\n",
        "df_diff = dataset_segmented_v1.compare(dataset_segmented_v2)\n",
        "print(f'Se encontraron {df_diff.shape[0]} filas distintas entre las tablas...')"
      ]
    },
    {
      "cell_type": "markdown",
      "metadata": {
        "id": "n5HP2cnlOgxf"
      },
      "source": [
        "De encontrarse diferencias entre los modelos, y si son relativamente pocas, se recomienda filtrarlas y analizar luego de revisar la estadística descriptiva de cada segmento a cuál debieran pertenecer. Dado que en este caso ambas tablas son iguales, a continuación se definirá el dataset final tomando la primera tabla como referencia:"
      ]
    },
    {
      "cell_type": "code",
      "execution_count": null,
      "metadata": {
        "id": "42rp0XTzOhHt"
      },
      "outputs": [],
      "source": [
        "# Copying our dataset to avoid future issues\n",
        "dataset_segmented = dataset_corregido.copy(deep=True)\n",
        "\n",
        "# Adding clusters and reverting values from numeric\n",
        "segments = [f'cluster_{group + 1:02d}' for group in data_labels_v2]\n",
        "dataset_segmented.insert(loc=1, column='segment', value=segments)"
      ]
    },
    {
      "cell_type": "markdown",
      "metadata": {
        "id": "oR1T8Ky7MTmz"
      },
      "source": [
        "<h3>9.2. Estadística Descriptiva por Grupo</h3>\n",
        "\n",
        "El siguiente bloque de código tiene por objetivo imprimir los promedio de cada columna para los distintos segmentos. Así, tras ejecutarlo veremos impresa esta información para cada grupo, pudiéndose construir fácilmente los perfiles a partir de esta información."
      ]
    },
    {
      "cell_type": "code",
      "execution_count": null,
      "metadata": {
        "colab": {
          "base_uri": "https://localhost:8080/",
          "height": 143
        },
        "id": "1PUQeOBaKmYu",
        "outputId": "d8e72cb4-a715-457d-b6aa-a04b11359756"
      },
      "outputs": [],
      "source": [
        "# Selecting columns to describe\n",
        "excluded_cols = ['Identificador', 'Segmento']\n",
        "\n",
        "filtered_cols = [col for col in dataset_segmented.columns\n",
        "                 if col not in excluded_cols]\n",
        "\n",
        "df_clustered = dataset_segmented[filtered_cols].copy(deep=True)\n",
        "\n",
        "# Setting main variables to iterate over\n",
        "dict_clusters = {}\n",
        "list_dicts = []\n",
        "\n",
        "for group in df_clustered['segment'].unique():\n",
        "  # Filtering values for descriptive analysis to be done\n",
        "  df_group = df_clustered[df_clustered['segment']==group].copy(deep=True)\n",
        "\n",
        "  # Filling our cluster dictionary with the descriptive analysis\n",
        "  dict_clusters[group] = df_group.describe(percentiles=[])\n",
        "\n",
        "for cluster, values in dict_clusters.items():\n",
        "  local_dict = {}\n",
        "\n",
        "  # Future cluster index aggregation and addition of dict to list\n",
        "  local_dict['cluster'] = cluster\n",
        "\n",
        "  # Adding the number of individuals of each cluster\n",
        "  group = int(re.search('(\\d)+', cluster).group(1))\n",
        "  size = df_clustered[df_clustered['segment']==group].shape[0]\n",
        "  local_dict['size'] = size\n",
        "\n",
        "  # Adding all the other values\n",
        "  local_dict = {**local_dict, **dict(values.loc['mean', :])}\n",
        "  list_dicts.append(local_dict)\n",
        "\n",
        "df_archetypes = pd.DataFrame(list_dicts)\n",
        "df_archetypes.set_index(keys='cluster', drop=True, inplace=True)\n",
        "df_archetypes.sort_index(ascending=True, inplace=True)\n",
        "df_archetypes.index.name = None\n",
        "\n",
        "pd.set_option('display.float_format', lambda x: '%.1f' % x)\n",
        "display(df_archetypes)"
      ]
    },
    {
      "cell_type": "markdown",
      "metadata": {
        "id": "MaZHsa7uMQWP"
      },
      "source": [
        "Es mucho lo que podemos determinar a partir de una información tan básica como las medias para cada variable observada de los grupos. A continuación, analizaremos variable por variable los resultados:\n",
        "\n",
        "*   Sexo: observamos que en el clúster 3 dominan hegemónicamente las mujeres, mientras en el resto de los grupos distribuye más cargado a los hombres.\n",
        "*   Edad: no parece presentar una diferencia significativa entre grupos a primera vista. Habría que correr un test de diferencia de medias para validar.\n",
        "*   Nacionalidad: esta no es una variable a la que hayamos prestado especial atención, dada la nube de puntos que formaba en el pairplot.\n",
        "*   Nivel Educacional: es significativamente más bajo para el clúster 3 que para los demás, a primera vista.\n",
        "*   Ubicación o Comuna: omitidos por servir como llave para nuestro proxy de ingresos.\n",
        "*   Pobreza de la Comuna: esta es nuevamente una variable que para el tercer segmento se dispara.\n",
        "*   Local: no amerita análisis aún, pero será importante cuando veamos el detalle nominal y geográfico.\n",
        "*   Frecuencia: en este caso, es el clúster 2 el que presenta una frecuencia que se escapa de la media entre grupos.\n",
        "*   Consumo: Otra vez es el clúster 2 el que destaca, señalando una visita más frecuente y para un consumo no doméstico.\n",
        "\n",
        "Con estas nociones claras, podemos aventurar algunas hipótesis que validaremos contra los datos nominales y nuestro conocimiento circunstancial.\n",
        "\n",
        "<h3>9.3. Propuesta de Perfiles</h3>\n",
        "\n",
        "Los perfiles que se presentan a continuación nacen de un trabajo iterativo y acabado de estudio de las variables nominales que, junto con el conocimiento circunstancial y de mercados, permite al equipo de Inteligencia de Mercados de Bimarc proponer una explicación a cada segmento.\n",
        "\n",
        "1.   Se identificaron tres clústeres de consumidores. El primero, conocido como \"foodies\", se caracteriza por compras esporádicas de bajo monto, alto nivel educativo y adquisitivo, y una pasión por la comida y la gastronomía. Les gusta explorar nuevos sabores y restaurantes, compartiendo sus experiencias en línea.\n",
        "2.   El segundo clúster, llamado \"chefs\", realiza compras frecuentes y de alto monto, a menudo relacionadas con necesidades culinarias profesionales. Tienen un alto nivel educativo y buscan ingredientes de alta calidad para crear platos excepcionales.\n",
        "3.   El tercer segmento, \"asesoras del hogar\", realiza compras que no coinciden con sus ingresos estimados y a menudo en áreas residenciales diferentes. Se cree que trabajan en hogares de alto poder adquisitivo, desempeñando un papel clave en la gestión de las necesidades culinarias y domésticas.\n",
        "\n",
        "<h3>9.4. Creación de Buyer Personas</h3>\n",
        "\n",
        "A continuación se presenta una propuesta de buyer personas para cada uno de los segmentos identificados. Tome en consideración que para ello fue necesario investigar las características de los perfiles propuestos, cuestión de la que usted debiera dar cuenta en su informe.\n",
        "\n",
        "---\n",
        "**Buyer Persona para \"Foodies\"**\n",
        "\n",
        "Nombre: Ana<br>\n",
        "Edad: 25-35 años.<br>\n",
        "Nivel educativo: Ingeniera Comercial.<br>\n",
        "\n",
        "Características clave:\n",
        "*   Apasionada por la comida y la gastronomía.\n",
        "*   Le encanta probar nuevos sabores y explorar diferentes cocinas.\n",
        "*   Activa en redes sociales y blogs culinarios donde comparte sus experiencias.\n",
        "*   Tiene un ingreso estable y dispone de un presupuesto moderado para comer fuera.\n",
        "\n",
        "Necesidades y deseos:\n",
        "*   Busca restaurantes de alta calidad y experiencias culinarias únicas.\n",
        "*   Siempre está en busca de ingredientes gourmet para cocinar en casa.\n",
        "*   Valora la calidad y autenticidad de los alimentos.\n",
        "\n",
        "---\n",
        "**Buyer Persona para \"Chefs\"**\n",
        "\n",
        "Nombre: Carlos<br>\n",
        "Edad: 35-50 años.<br>\n",
        "Nivel educativo: Graduado en Escuela de Chef Profesional.<br>\n",
        "\n",
        "Características clave:\n",
        "*   Chef profesional o dueño de restaurante.\n",
        "*   Experimentado en la cocina y apasionado por la gastronomía.\n",
        "*   Conocedor de ingredientes y técnicas culinarias avanzadas.\n",
        "*   Tiene un ingreso moderado y busca calidad sobre cantidad.\n",
        "\n",
        "Necesidades y deseos:\n",
        "*   Busca proveedores de alimentos de alta gama para su restaurante.\n",
        "*   Siempre está en búsqueda de ingredientes frescos y de calidad.\n",
        "*   Valora la innovación en la cocina y está dispuesto a invertir en ingredientes excepcionales.\n",
        "\n",
        "---\n",
        "**Buyer Persona para \"Asesoras del Hogar\"**\n",
        "\n",
        "Nombre: María<br>\n",
        "Edad: 45-55 años.<br>\n",
        "Nivel educativo: Educación secundaria.<br>\n",
        "\n",
        "Características clave:\n",
        "\n",
        "*   Trabaja como asesora del hogar en una zona residencial de alto poder adquisitivo.\n",
        "*   Responsable de la gestión de la cocina y compras de reposición del el hogar donde trabaja.\n",
        "*   Tiene un ingreso moderado y sus compras personales no las realiza en los locales de Bimarc Food Market.\n",
        "\n",
        "Necesidades y deseos:\n",
        "\n",
        "*   Busca eficiencia en las compras y productos de calidad para el hogar.\n",
        "*   Valora la conveniencia y la durabilidad de los productos.\n",
        "*   Su enfoque principal es mantener el hogar bien abastecido y satisfacer las necesidades culinarias de los residentes.\n",
        "\n",
        "---\n",
        "\n",
        "Estos buyer personas permiten a los equipos de marketing un trabajo más natural, al conectar los segmentos con un perfil y luego una idea con la que el interlocutor del informe se puede familiarizar de forma más humana y comprensible."
      ]
    },
    {
      "cell_type": "markdown",
      "metadata": {
        "id": "zNCW0LrVdhq7"
      },
      "source": [
        "<h2>10. Repuesta a las Preguntas del Caso</h2>\n",
        "\n",
        "1.   ¿Cuál es el perfil demográfico de los clientes de Bimarc Food Markets?<br>\n",
        "<b>Respuesta:</b> Analizar sexo, edad, nacionalidad, nivel educacional y comuna de recidencia por segmento.\n",
        "\n",
        "2.   ¿Cuáles son los patrones de compra de los clientes en Bimarc Food?<br>\n",
        "<b>Respuesta:</b> Analizar los montos y frecuencia por segmento.\n",
        "\n",
        "3.   ¿Cómo explicaría usted el bajo monto promedio de las boletas?<br>\n",
        "<b>Respuesta:</b> Existe sólo un segmento que representa realmente a los trabajadores de la industria de los alimentos, y estos compran con alta frecuencia. Lo anterior, diluye el monto de las boletas y crea el efecto observado por Ricardo Bimarc.\n",
        "\n",
        "3.   En su opinión, ¿estaría canibalizando Bimarc Food Markets la clientela de los supermercados tradicionales de la compañía?<br>\n",
        "<b>Respuesta:</b> Sí, pero sólo en el segmento de asesoras del hogar.\n"
      ]
    }
  ],
  "metadata": {
    "colab": {
      "include_colab_link": true,
      "provenance": []
    },
    "kernelspec": {
      "display_name": "Python 3",
      "name": "python3"
    },
    "language_info": {
      "codemirror_mode": {
        "name": "ipython",
        "version": 3
      },
      "file_extension": ".py",
      "mimetype": "text/x-python",
      "name": "python",
      "nbconvert_exporter": "python",
      "pygments_lexer": "ipython3",
      "version": "3.10.12"
    }
  },
  "nbformat": 4,
  "nbformat_minor": 0
}
